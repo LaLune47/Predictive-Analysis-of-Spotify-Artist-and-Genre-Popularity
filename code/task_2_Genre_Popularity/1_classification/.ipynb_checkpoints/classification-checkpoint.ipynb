{
 "cells": [
  {
   "cell_type": "markdown",
   "id": "6bab18a4",
   "metadata": {},
   "source": [
    "### Dataset"
   ]
  },
  {
   "cell_type": "code",
   "execution_count": 1,
   "id": "7847e8cc",
   "metadata": {},
   "outputs": [],
   "source": [
    "import pandas as pd\n",
    "\n",
    "X_train = pd.read_csv('../../data/genre_class_train_df.csv')\n",
    "X_test = pd.read_csv('../../data/genre_class_test_df.csv')"
   ]
  },
  {
   "cell_type": "code",
   "execution_count": 2,
   "id": "f4025e8c",
   "metadata": {},
   "outputs": [],
   "source": [
    "import numpy as np\n",
    "\n",
    "y_train = np.load('../../data/genre_class_train_y.npy', allow_pickle=True)\n",
    "y_test = np.load('../../data/genre_class_test_y.npy', allow_pickle=True)"
   ]
  },
  {
   "cell_type": "markdown",
   "id": "941dd662",
   "metadata": {},
   "source": [
    "### Classification\n",
    "#### Baseline"
   ]
  },
  {
   "cell_type": "code",
   "execution_count": 3,
   "id": "83409bcb",
   "metadata": {},
   "outputs": [
    {
     "name": "stdout",
     "output_type": "stream",
     "text": [
      "Train Set ROC AUC Score: 0.5\n",
      "Test Set ROC AUC Score: 0.5\n"
     ]
    }
   ],
   "source": [
    "from sklearn.dummy import DummyClassifier\n",
    "from sklearn.metrics import roc_auc_score\n",
    "\n",
    "dummy_clf = DummyClassifier()\n",
    "dummy_clf.fit(X_train, y_train)\n",
    "\n",
    "train_pred = dummy_clf.predict_proba(X_train)\n",
    "test_pred = dummy_clf.predict_proba(X_test)\n",
    "\n",
    "print(f\"Train Set ROC AUC Score: {roc_auc_score(y_train, train_pred, multi_class='ovr')}\")\n",
    "print(f\"Test Set ROC AUC Score: {roc_auc_score(y_test, test_pred, multi_class='ovr')}\")"
   ]
  },
  {
   "cell_type": "markdown",
   "id": "9b114584",
   "metadata": {},
   "source": [
    "#### Naive Bayes"
   ]
  },
  {
   "cell_type": "code",
   "execution_count": 4,
   "id": "4bcc09a8",
   "metadata": {},
   "outputs": [
    {
     "name": "stdout",
     "output_type": "stream",
     "text": [
      "Train Set ROC AUC Score: 0.5134275066881352\n",
      "Test Set ROC AUC Score: 0.5135732901365453\n"
     ]
    }
   ],
   "source": [
    "from sklearn.naive_bayes import GaussianNB\n",
    "\n",
    "nb_clf = GaussianNB()\n",
    "nb_clf.fit(X_train, y_train)\n",
    "\n",
    "train_pred = nb_clf.predict_proba(X_train)\n",
    "test_pred = nb_clf.predict_proba(X_test)\n",
    "\n",
    "print(f\"Train Set ROC AUC Score: {roc_auc_score(y_train, train_pred, multi_class='ovr')}\")\n",
    "print(f\"Test Set ROC AUC Score: {roc_auc_score(y_test, test_pred, multi_class='ovr')}\")"
   ]
  },
  {
   "cell_type": "markdown",
   "id": "a270f309",
   "metadata": {},
   "source": [
    "#### Logistic Regression"
   ]
  },
  {
   "cell_type": "code",
   "execution_count": 5,
   "id": "48f462a4",
   "metadata": {},
   "outputs": [
    {
     "name": "stderr",
     "output_type": "stream",
     "text": [
      "C:\\Users\\Liujun\\anaconda3\\lib\\site-packages\\sklearn\\linear_model\\_sag.py:352: ConvergenceWarning: The max_iter was reached which means the coef_ did not converge\n",
      "  warnings.warn(\n"
     ]
    },
    {
     "name": "stdout",
     "output_type": "stream",
     "text": [
      "Train Set ROC AUC Score: 0.510207592828338\n",
      "Test Set ROC AUC Score: 0.5097762344894262\n"
     ]
    }
   ],
   "source": [
    "from sklearn.linear_model import LogisticRegression\n",
    "\n",
    "lr_clf = LogisticRegression(solver='saga', random_state=42)\n",
    "lr_clf.fit(X_train, y_train)\n",
    "\n",
    "train_pred = lr_clf.predict_proba(X_train)\n",
    "test_pred = lr_clf.predict_proba(X_test)\n",
    "\n",
    "print(f\"Train Set ROC AUC Score: {roc_auc_score(y_train, train_pred, multi_class='ovr')}\")\n",
    "print(f\"Test Set ROC AUC Score: {roc_auc_score(y_test, test_pred, multi_class='ovr')}\")"
   ]
  },
  {
   "cell_type": "markdown",
   "id": "69535b73",
   "metadata": {},
   "source": [
    "#### K-Nearest Neighbours (KNN)"
   ]
  },
  {
   "cell_type": "code",
   "execution_count": 6,
   "id": "d5c8866c",
   "metadata": {},
   "outputs": [
    {
     "name": "stdout",
     "output_type": "stream",
     "text": [
      "Train Set ROC AUC Score: 0.5258628748154495\n",
      "Test Set ROC AUC Score: 0.49501381931877597\n"
     ]
    }
   ],
   "source": [
    "from sklearn.neighbors import KNeighborsClassifier\n",
    "\n",
    "knn_clf = KNeighborsClassifier()\n",
    "knn_clf.fit(X_train, y_train)\n",
    "\n",
    "train_pred = knn_clf.predict_proba(X_train)\n",
    "test_pred = knn_clf.predict_proba(X_test)\n",
    "\n",
    "print(f\"Train Set ROC AUC Score: {roc_auc_score(y_train, train_pred, multi_class='ovr')}\")\n",
    "print(f\"Test Set ROC AUC Score: {roc_auc_score(y_test, test_pred, multi_class='ovr')}\")"
   ]
  },
  {
   "cell_type": "markdown",
   "id": "03f39a99",
   "metadata": {},
   "source": [
    "#### Random Forest"
   ]
  },
  {
   "cell_type": "code",
   "execution_count": 7,
   "id": "006b89e6",
   "metadata": {},
   "outputs": [
    {
     "name": "stdout",
     "output_type": "stream",
     "text": [
      "Train Set ROC AUC Score: 0.5883409127768241\n",
      "Test Set ROC AUC Score: 0.4730835722212695\n"
     ]
    }
   ],
   "source": [
    "from sklearn.ensemble import RandomForestClassifier\n",
    "\n",
    "rf_clf = RandomForestClassifier(random_state=42)\n",
    "rf_clf.fit(X_train, y_train)\n",
    "\n",
    "train_pred = rf_clf.predict_proba(X_train)\n",
    "test_pred = rf_clf.predict_proba(X_test)\n",
    "\n",
    "print(f\"Train Set ROC AUC Score: {roc_auc_score(y_train, train_pred, multi_class='ovr')}\")\n",
    "print(f\"Test Set ROC AUC Score: {roc_auc_score(y_test, test_pred, multi_class='ovr')}\")"
   ]
  },
  {
   "cell_type": "markdown",
   "id": "14082f16",
   "metadata": {},
   "source": [
    "#### Multilayer Perceptron (MLP)"
   ]
  },
  {
   "cell_type": "code",
   "execution_count": 8,
   "id": "3e1fbe7c",
   "metadata": {
    "scrolled": true
   },
   "outputs": [
    {
     "name": "stdout",
     "output_type": "stream",
     "text": [
      "Iteration 1, loss = 37.26916664\n",
      "Iteration 2, loss = 36.68019497\n",
      "Iteration 3, loss = 36.67620716\n",
      "Iteration 4, loss = 35.89862579\n",
      "Iteration 5, loss = 34.82156955\n",
      "Iteration 6, loss = 34.36869243\n",
      "Iteration 7, loss = 33.51710849\n",
      "Iteration 8, loss = 32.87370496\n",
      "Iteration 9, loss = 32.31211924\n",
      "Iteration 10, loss = 31.09904163\n",
      "Iteration 11, loss = 31.69820517\n",
      "Iteration 12, loss = 30.81981633\n",
      "Iteration 13, loss = 28.29605860\n",
      "Iteration 14, loss = 29.15837343\n",
      "Iteration 15, loss = 28.84927280\n",
      "Iteration 16, loss = 26.91591559\n",
      "Iteration 17, loss = 26.41890365\n",
      "Iteration 18, loss = 26.17617564\n",
      "Iteration 19, loss = 25.05349732\n",
      "Iteration 20, loss = 23.68244675\n",
      "Iteration 21, loss = 22.31185446\n",
      "Iteration 22, loss = 22.24904617\n",
      "Iteration 23, loss = 21.01660037\n",
      "Iteration 24, loss = 20.76755838\n",
      "Iteration 25, loss = 18.94259968\n",
      "Iteration 26, loss = 18.47777383\n",
      "Iteration 27, loss = 17.52236889\n",
      "Iteration 28, loss = 16.79230596\n",
      "Iteration 29, loss = 15.52929937\n",
      "Iteration 30, loss = 14.74505366\n",
      "Iteration 31, loss = 13.42474502\n",
      "Iteration 32, loss = 11.61828730\n",
      "Iteration 33, loss = 11.23308236\n",
      "Iteration 34, loss = 10.84410454\n",
      "Iteration 35, loss = 10.05003945\n",
      "Iteration 36, loss = 9.34957425\n",
      "Iteration 37, loss = 8.93797635\n",
      "Iteration 38, loss = 7.27043687\n",
      "Iteration 39, loss = 6.73552732\n",
      "Iteration 40, loss = 6.68449398\n",
      "Iteration 41, loss = 6.05181835\n",
      "Iteration 42, loss = 5.80612671\n",
      "Iteration 43, loss = 5.83554851\n",
      "Iteration 44, loss = 5.19659570\n",
      "Iteration 45, loss = 5.17561096\n",
      "Iteration 46, loss = 5.03991302\n",
      "Iteration 47, loss = 4.68293171\n",
      "Iteration 48, loss = 4.54272816\n",
      "Iteration 49, loss = 4.23748708\n",
      "Iteration 50, loss = 4.08086923\n",
      "Iteration 51, loss = 3.90053124\n",
      "Iteration 52, loss = 3.79589757\n",
      "Iteration 53, loss = 3.89240738\n",
      "Iteration 54, loss = 3.58049794\n",
      "Iteration 55, loss = 3.56231850\n",
      "Iteration 56, loss = 3.49905345\n",
      "Iteration 57, loss = 3.30795618\n",
      "Iteration 58, loss = 3.16817196\n",
      "Iteration 59, loss = 3.10366718\n",
      "Iteration 60, loss = 3.01593487\n",
      "Iteration 61, loss = 2.90858222\n",
      "Iteration 62, loss = 2.90434132\n",
      "Iteration 63, loss = 2.84014335\n",
      "Iteration 64, loss = 2.74853304\n",
      "Iteration 65, loss = 2.67423973\n",
      "Iteration 66, loss = 2.66842363\n",
      "Iteration 67, loss = 2.64909041\n",
      "Iteration 68, loss = 2.62225652\n",
      "Iteration 69, loss = 2.60891824\n",
      "Iteration 70, loss = 2.59169363\n",
      "Iteration 71, loss = 2.57185181\n",
      "Iteration 72, loss = 2.54040651\n",
      "Iteration 73, loss = 2.50588874\n",
      "Iteration 74, loss = 2.50201560\n",
      "Iteration 75, loss = 2.50265827\n",
      "Iteration 76, loss = 2.50202671\n",
      "Iteration 77, loss = 2.50220022\n",
      "Iteration 78, loss = 2.50273027\n",
      "Iteration 79, loss = 2.50201244\n",
      "Iteration 80, loss = 2.50203487\n",
      "Iteration 81, loss = 2.51922806\n",
      "Iteration 82, loss = 2.50322163\n",
      "Iteration 83, loss = 2.50256553\n",
      "Iteration 84, loss = 2.50195538\n",
      "Iteration 85, loss = 2.50197143\n",
      "Training loss did not improve more than tol=0.000100 for 10 consecutive epochs. Stopping.\n",
      "\n",
      "Train Set ROC AUC Score: 0.5005527011515455\n",
      "Test Set ROC AUC Score: 0.5004568905685285\n"
     ]
    }
   ],
   "source": [
    "from sklearn.neural_network import MLPClassifier\n",
    "\n",
    "mlp_clf = MLPClassifier(random_state=42, verbose=1)\n",
    "mlp_clf.fit(X_train, y_train)\n",
    "\n",
    "train_pred = mlp_clf.predict_proba(X_train)\n",
    "test_pred = mlp_clf.predict_proba(X_test)\n",
    "\n",
    "print()\n",
    "print(f\"Train Set ROC AUC Score: {roc_auc_score(y_train, train_pred, multi_class='ovr')}\")\n",
    "print(f\"Test Set ROC AUC Score: {roc_auc_score(y_test, test_pred, multi_class='ovr')}\")"
   ]
  },
  {
   "cell_type": "markdown",
   "id": "e26d33d9",
   "metadata": {},
   "source": [
    "### Plot Results"
   ]
  },
  {
   "cell_type": "code",
   "execution_count": 1,
   "id": "bdec0754",
   "metadata": {},
   "outputs": [
    {
     "data": {
      "image/png": "[encoded data removed]",
      "text/plain": [
       "<Figure size 720x360 with 1 Axes>"
      ]
     },
     "metadata": {
      "needs_background": "light"
     },
     "output_type": "display_data"
    }
   ],
   "source": [
    "import matplotlib.pyplot as plt\n",
    "\n",
    "models = ['NB', 'LR', 'KNN', 'RF', 'MLP']\n",
    "results = [0.5135732901365453, 0.5097762344894262, 0.49501381931877597, 0.4730835722212695, 0.5004568905685285]\n",
    "\n",
    "fig, ax = plt.subplots(1, 1, figsize=(10, 5))\n",
    "\n",
    "bars = ax.bar(models, results)\n",
    "ax.bar_label(bars, padding=4)\n",
    "ax.axhline(0.5, linestyle='dashed', color='red', label='Baseline')\n",
    "\n",
    "ax.set_title('ROC AUC of classifiers')\n",
    "ax.set_ylabel('ROC AUC')\n",
    "ax.set_xlabel('Classifier')\n",
    "ax.set_ylim(0.4, 0.52)\n",
    "\n",
    "ax.legend(loc='upper right')\n",
    "\n",
    "plt.tight_layout()\n",
    "plt.show()"
   ]
  },
  {
   "cell_type": "code",
   "execution_count": 2,
   "id": "4656d6f4",
   "metadata": {},
   "outputs": [],
   "source": [
    "fig.savefig('../../figures/ROC AUC of genres classifiers.pdf')"
   ]
  }
 ],
 "metadata": {
  "kernelspec": {
   "display_name": "Python 3 (ipykernel)",
   "language": "python",
   "name": "python3"
  },
  "language_info": {
   "codemirror_mode": {
    "name": "ipython",
    "version": 3
   },
   "file_extension": ".py",
   "mimetype": "text/x-python",
   "name": "python",
   "nbconvert_exporter": "python",
   "pygments_lexer": "ipython3",
   "version": "3.9.12"
  }
 },
 "nbformat": 4,
 "nbformat_minor": 5
}

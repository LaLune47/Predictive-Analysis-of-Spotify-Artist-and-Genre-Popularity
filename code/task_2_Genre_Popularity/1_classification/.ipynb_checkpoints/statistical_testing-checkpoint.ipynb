{
 "cells": [
  {
   "cell_type": "markdown",
   "id": "268d75fa",
   "metadata": {},
   "source": [
    "### Dataset"
   ]
  },
  {
   "cell_type": "code",
   "execution_count": 1,
   "id": "38868158",
   "metadata": {},
   "outputs": [],
   "source": [
    "import pandas as pd\n",
    "\n",
    "X_train = pd.read_csv('../../data/genre_class_train_df.csv')\n",
    "X_test = pd.read_csv('../../data/genre_class_test_df.csv')"
   ]
  },
  {
   "cell_type": "code",
   "execution_count": 2,
   "id": "c4f449f0",
   "metadata": {},
   "outputs": [],
   "source": [
    "import numpy as np\n",
    "\n",
    "y_train = np.load('../../data/genre_class_train_y.npy', allow_pickle=True)\n",
    "y_test = np.load('../../data/genre_class_test_y.npy', allow_pickle=True)"
   ]
  },
  {
   "cell_type": "markdown",
   "id": "9f3e409b",
   "metadata": {},
   "source": [
    "### Cross Validation (K = 10)\n",
    "#### Baseline"
   ]
  },
  {
   "cell_type": "code",
   "execution_count": 3,
   "id": "c82c2562",
   "metadata": {},
   "outputs": [
    {
     "name": "stdout",
     "output_type": "stream",
     "text": [
      "Cross-Validation Results: \n",
      "Split 0: 0.5\n",
      "Split 1: 0.5\n",
      "Split 2: 0.5\n",
      "Split 3: 0.5\n",
      "Split 4: 0.5\n",
      "Split 5: 0.5\n",
      "Split 6: 0.5\n",
      "Split 7: 0.5\n",
      "Split 8: 0.5\n",
      "Split 9: 0.5\n"
     ]
    }
   ],
   "source": [
    "from sklearn.dummy import DummyClassifier\n",
    "from sklearn.model_selection import cross_validate\n",
    "\n",
    "dummy_clf = DummyClassifier()\n",
    "cv_results = cross_validate(dummy_clf, X_train, y_train, scoring='roc_auc_ovr', cv=10)\n",
    "\n",
    "print(f\"Cross-Validation Results: \")\n",
    "for i, res in enumerate(cv_results['test_score']):\n",
    "    print(f\"Split {i}: {res}\")"
   ]
  },
  {
   "cell_type": "markdown",
   "id": "1481f16d",
   "metadata": {},
   "source": [
    "#### Naive Bayes"
   ]
  },
  {
   "cell_type": "code",
   "execution_count": 3,
   "id": "f592e6b5",
   "metadata": {},
   "outputs": [
    {
     "name": "stdout",
     "output_type": "stream",
     "text": [
      "Cross-Validation Results: \n",
      "Split 0: 0.5160407055635572\n",
      "Split 1: 0.5153708620658187\n",
      "Split 2: 0.5121918050161856\n",
      "Split 3: 0.5116289649632666\n",
      "Split 4: 0.5116616833948087\n",
      "Split 5: 0.5133545528979042\n",
      "Split 6: 0.5133230275543502\n",
      "Split 7: 0.515579810454476\n",
      "Split 8: 0.5099320396948464\n",
      "Split 9: 0.5136766531269641\n"
     ]
    }
   ],
   "source": [
    "from sklearn.naive_bayes import GaussianNB\n",
    "from sklearn.model_selection import cross_validate\n",
    "\n",
    "nb_clf = GaussianNB()\n",
    "cv_results = cross_validate(nb_clf, X_train, y_train, scoring='roc_auc_ovr', cv=10)\n",
    "\n",
    "print(f\"Cross-Validation Results: \")\n",
    "for i, res in enumerate(cv_results['test_score']):\n",
    "    print(f\"Split {i}: {res}\")"
   ]
  },
  {
   "cell_type": "markdown",
   "id": "bb062570",
   "metadata": {},
   "source": [
    "#### Logistic Regression"
   ]
  },
  {
   "cell_type": "code",
   "execution_count": 4,
   "id": "315e94db",
   "metadata": {},
   "outputs": [
    {
     "name": "stderr",
     "output_type": "stream",
     "text": [
      "C:\\Users\\Liujun\\anaconda3\\lib\\site-packages\\sklearn\\linear_model\\_sag.py:352: ConvergenceWarning: The max_iter was reached which means the coef_ did not converge\n",
      "  warnings.warn(\n",
      "C:\\Users\\Liujun\\anaconda3\\lib\\site-packages\\sklearn\\linear_model\\_sag.py:352: ConvergenceWarning: The max_iter was reached which means the coef_ did not converge\n",
      "  warnings.warn(\n",
      "C:\\Users\\Liujun\\anaconda3\\lib\\site-packages\\sklearn\\linear_model\\_sag.py:352: ConvergenceWarning: The max_iter was reached which means the coef_ did not converge\n",
      "  warnings.warn(\n",
      "C:\\Users\\Liujun\\anaconda3\\lib\\site-packages\\sklearn\\linear_model\\_sag.py:352: ConvergenceWarning: The max_iter was reached which means the coef_ did not converge\n",
      "  warnings.warn(\n",
      "C:\\Users\\Liujun\\anaconda3\\lib\\site-packages\\sklearn\\linear_model\\_sag.py:352: ConvergenceWarning: The max_iter was reached which means the coef_ did not converge\n",
      "  warnings.warn(\n",
      "C:\\Users\\Liujun\\anaconda3\\lib\\site-packages\\sklearn\\linear_model\\_sag.py:352: ConvergenceWarning: The max_iter was reached which means the coef_ did not converge\n",
      "  warnings.warn(\n",
      "C:\\Users\\Liujun\\anaconda3\\lib\\site-packages\\sklearn\\linear_model\\_sag.py:352: ConvergenceWarning: The max_iter was reached which means the coef_ did not converge\n",
      "  warnings.warn(\n",
      "C:\\Users\\Liujun\\anaconda3\\lib\\site-packages\\sklearn\\linear_model\\_sag.py:352: ConvergenceWarning: The max_iter was reached which means the coef_ did not converge\n",
      "  warnings.warn(\n",
      "C:\\Users\\Liujun\\anaconda3\\lib\\site-packages\\sklearn\\linear_model\\_sag.py:352: ConvergenceWarning: The max_iter was reached which means the coef_ did not converge\n",
      "  warnings.warn(\n"
     ]
    },
    {
     "name": "stdout",
     "output_type": "stream",
     "text": [
      "Cross-Validation Results: \n",
      "Split 0: 0.5124231121793161\n",
      "Split 1: 0.5111649765212117\n",
      "Split 2: 0.5084898499055066\n",
      "Split 3: 0.5089509851247662\n",
      "Split 4: 0.508503936085081\n",
      "Split 5: 0.5085836046472482\n",
      "Split 6: 0.5093719668353593\n",
      "Split 7: 0.5098473146050797\n",
      "Split 8: 0.5108464640670476\n",
      "Split 9: 0.5103836567392642\n"
     ]
    },
    {
     "name": "stderr",
     "output_type": "stream",
     "text": [
      "C:\\Users\\Liujun\\anaconda3\\lib\\site-packages\\sklearn\\linear_model\\_sag.py:352: ConvergenceWarning: The max_iter was reached which means the coef_ did not converge\n",
      "  warnings.warn(\n"
     ]
    }
   ],
   "source": [
    "from sklearn.linear_model import LogisticRegression\n",
    "from sklearn.model_selection import cross_validate\n",
    "\n",
    "lr_clf = LogisticRegression(solver='saga', random_state=42)\n",
    "cv_results = cross_validate(lr_clf, X_train, y_train, scoring='roc_auc_ovr', cv=10)\n",
    "\n",
    "print(f\"Cross-Validation Results: \")\n",
    "for i, res in enumerate(cv_results['test_score']):\n",
    "    print(f\"Split {i}: {res}\")"
   ]
  },
  {
   "cell_type": "markdown",
   "id": "db95ca3f",
   "metadata": {},
   "source": [
    "### Statistical Testing\n",
    "#### Between Best Models"
   ]
  },
  {
   "cell_type": "code",
   "execution_count": 7,
   "id": "fc83e9d1",
   "metadata": {},
   "outputs": [
    {
     "name": "stdout",
     "output_type": "stream",
     "text": [
      "t-statistic: 6.173231535467158\n",
      "p_value: 0.00016406147325362017\n"
     ]
    }
   ],
   "source": [
    "from scipy.stats import ttest_rel\n",
    "\n",
    "nb_cv = [0.5160407055635572, 0.5153708620658187, 0.5121918050161856, 0.5116289649632666, 0.5116616833948087,\n",
    "         0.5133545528979042, 0.5133230275543502, 0.515579810454476, 0.5099320396948464, 0.5136766531269641]\n",
    "lr_cv = [0.5124231121793161, 0.5111649765212117, 0.5084898499055066, 0.5089509851247662, 0.508503936085081, \n",
    "         0.5085836046472482, 0.5093719668353593, 0.5098473146050797, 0.5108464640670476, 0.5103836567392642]\n",
    "\n",
    "t_stat, p_value = ttest_rel(nb_cv, lr_cv)\n",
    "\n",
    "print(f\"t-statistic: {t_stat}\")\n",
    "print(f\"p_value: {p_value}\")"
   ]
  },
  {
   "cell_type": "markdown",
   "id": "0e2e90cc",
   "metadata": {},
   "source": [
    "#### Between Baseline and Best Model"
   ]
  },
  {
   "cell_type": "code",
   "execution_count": 8,
   "id": "baa850b9",
   "metadata": {},
   "outputs": [
    {
     "name": "stdout",
     "output_type": "stream",
     "text": [
      "t-statistic: 21.233001971169585\n",
      "p_value: 5.353598287380803e-09\n"
     ]
    }
   ],
   "source": [
    "from scipy.stats import ttest_rel\n",
    "\n",
    "nb_cv = [0.5160407055635572, 0.5153708620658187, 0.5121918050161856, 0.5116289649632666, 0.5116616833948087,\n",
    "         0.5133545528979042, 0.5133230275543502, 0.515579810454476, 0.5099320396948464, 0.5136766531269641]\n",
    "dummy_cv = [0.5, 0.5, 0.5, 0.5, 0.5, 0.5, 0.5, 0.5, 0.5, 0.5]\n",
    "\n",
    "t_stat, p_value = ttest_rel(nb_cv, dummy_cv)\n",
    "\n",
    "print(f\"t-statistic: {t_stat}\")\n",
    "print(f\"p_value: {p_value}\")"
   ]
  }
 ],
 "metadata": {
  "kernelspec": {
   "display_name": "Python 3 (ipykernel)",
   "language": "python",
   "name": "python3"
  },
  "language_info": {
   "codemirror_mode": {
    "name": "ipython",
    "version": 3
   },
   "file_extension": ".py",
   "mimetype": "text/x-python",
   "name": "python",
   "nbconvert_exporter": "python",
   "pygments_lexer": "ipython3",
   "version": "3.9.12"
  }
 },
 "nbformat": 4,
 "nbformat_minor": 5
}

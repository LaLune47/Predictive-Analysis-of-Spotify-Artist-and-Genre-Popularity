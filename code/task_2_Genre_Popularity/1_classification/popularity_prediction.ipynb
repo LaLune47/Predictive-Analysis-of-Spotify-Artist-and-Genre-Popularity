{
 "cells": [
  {
   "cell_type": "markdown",
   "id": "5b903833",
   "metadata": {},
   "source": [
    "### Load Train Dataset"
   ]
  },
  {
   "cell_type": "code",
   "execution_count": 1,
   "id": "82178e9f",
   "metadata": {},
   "outputs": [],
   "source": [
    "import pandas as pd\n",
    "\n",
    "X_train = pd.read_csv('../../data/genre_class_train_df.csv')"
   ]
  },
  {
   "cell_type": "code",
   "execution_count": 2,
   "id": "42127f3f",
   "metadata": {},
   "outputs": [],
   "source": [
    "import numpy as np\n",
    "\n",
    "y_train = np.load('../../data/genre_class_train_y.npy', allow_pickle=True)"
   ]
  },
  {
   "cell_type": "markdown",
   "id": "54596529",
   "metadata": {},
   "source": [
    "### Train Best Model (Naive Bayes)"
   ]
  },
  {
   "cell_type": "code",
   "execution_count": 3,
   "id": "aa9b26f6",
   "metadata": {},
   "outputs": [
    {
     "data": {
      "text/plain": [
       "GaussianNB()"
      ]
     },
     "execution_count": 3,
     "metadata": {},
     "output_type": "execute_result"
    }
   ],
   "source": [
    "from sklearn.naive_bayes import GaussianNB\n",
    "\n",
    "nb_clf = GaussianNB()\n",
    "nb_clf.fit(X_train, y_train)"
   ]
  },
  {
   "cell_type": "markdown",
   "id": "88aae860",
   "metadata": {},
   "source": [
    "### Load Test Dataset"
   ]
  },
  {
   "cell_type": "code",
   "execution_count": 4,
   "id": "d9d68af2",
   "metadata": {},
   "outputs": [
    {
     "data": {
      "text/html": [
       "<div>\n",
       "<style scoped>\n",
       "    .dataframe tbody tr th:only-of-type {\n",
       "        vertical-align: middle;\n",
       "    }\n",
       "\n",
       "    .dataframe tbody tr th {\n",
       "        vertical-align: top;\n",
       "    }\n",
       "\n",
       "    .dataframe thead th {\n",
       "        text-align: right;\n",
       "    }\n",
       "</style>\n",
       "<table border=\"1\" class=\"dataframe\">\n",
       "  <thead>\n",
       "    <tr style=\"text-align: right;\">\n",
       "      <th></th>\n",
       "      <th>Predicted_Genre</th>\n",
       "      <th>Previous_Date</th>\n",
       "      <th>Genre_Year_Score</th>\n",
       "      <th>Danceability</th>\n",
       "      <th>Energy</th>\n",
       "      <th>Loudness</th>\n",
       "      <th>Speechiness</th>\n",
       "      <th>Acousticness</th>\n",
       "      <th>Instrumentalness</th>\n",
       "      <th>Valence</th>\n",
       "    </tr>\n",
       "  </thead>\n",
       "  <tbody>\n",
       "    <tr>\n",
       "      <th>0</th>\n",
       "      <td>0</td>\n",
       "      <td>2023-05-29</td>\n",
       "      <td>37432.512130</td>\n",
       "      <td>0.503442</td>\n",
       "      <td>-0.196339</td>\n",
       "      <td>-0.267471</td>\n",
       "      <td>1.813795</td>\n",
       "      <td>-0.147356</td>\n",
       "      <td>-0.086119</td>\n",
       "      <td>-0.142544</td>\n",
       "    </tr>\n",
       "    <tr>\n",
       "      <th>1</th>\n",
       "      <td>1</td>\n",
       "      <td>2023-05-29</td>\n",
       "      <td>35883.443538</td>\n",
       "      <td>-0.794152</td>\n",
       "      <td>-1.016944</td>\n",
       "      <td>-0.697935</td>\n",
       "      <td>-0.487496</td>\n",
       "      <td>0.932992</td>\n",
       "      <td>-0.068049</td>\n",
       "      <td>-0.776893</td>\n",
       "    </tr>\n",
       "    <tr>\n",
       "      <th>3</th>\n",
       "      <td>2</td>\n",
       "      <td>2023-05-29</td>\n",
       "      <td>29259.120238</td>\n",
       "      <td>-0.541976</td>\n",
       "      <td>-0.731101</td>\n",
       "      <td>-1.269752</td>\n",
       "      <td>-0.243998</td>\n",
       "      <td>0.397744</td>\n",
       "      <td>8.203221</td>\n",
       "      <td>-0.783138</td>\n",
       "    </tr>\n",
       "    <tr>\n",
       "      <th>2</th>\n",
       "      <td>3</td>\n",
       "      <td>2023-05-29</td>\n",
       "      <td>36832.996530</td>\n",
       "      <td>0.207237</td>\n",
       "      <td>0.524898</td>\n",
       "      <td>0.415995</td>\n",
       "      <td>-0.336907</td>\n",
       "      <td>-0.374916</td>\n",
       "      <td>-0.109478</td>\n",
       "      <td>0.403972</td>\n",
       "    </tr>\n",
       "  </tbody>\n",
       "</table>\n",
       "</div>"
      ],
      "text/plain": [
       "   Predicted_Genre Previous_Date  Genre_Year_Score  Danceability    Energy  \\\n",
       "0                0    2023-05-29      37432.512130      0.503442 -0.196339   \n",
       "1                1    2023-05-29      35883.443538     -0.794152 -1.016944   \n",
       "3                2    2023-05-29      29259.120238     -0.541976 -0.731101   \n",
       "2                3    2023-05-29      36832.996530      0.207237  0.524898   \n",
       "\n",
       "   Loudness  Speechiness  Acousticness  Instrumentalness   Valence  \n",
       "0 -0.267471     1.813795     -0.147356         -0.086119 -0.142544  \n",
       "1 -0.697935    -0.487496      0.932992         -0.068049 -0.776893  \n",
       "3 -1.269752    -0.243998      0.397744          8.203221 -0.783138  \n",
       "2  0.415995    -0.336907     -0.374916         -0.109478  0.403972  "
      ]
     },
     "execution_count": 4,
     "metadata": {},
     "output_type": "execute_result"
    }
   ],
   "source": [
    "final_pred_df = pd.read_csv('../../data/genre_final_pred_df.csv')\n",
    "final_pred_df = final_pred_df.sort_values('Predicted_Genre')\n",
    "final_pred_df"
   ]
  },
  {
   "cell_type": "code",
   "execution_count": 5,
   "id": "011bc0cc",
   "metadata": {},
   "outputs": [
    {
     "data": {
      "text/plain": [
       "array([4, 1, 0, 4], dtype=int64)"
      ]
     },
     "execution_count": 5,
     "metadata": {},
     "output_type": "execute_result"
    }
   ],
   "source": [
    "final_pred = nb_clf.predict(final_pred_df[['Genre_Year_Score', 'Danceability', 'Energy', 'Loudness', 'Speechiness', \n",
    "                                           'Acousticness', 'Instrumentalness', 'Valence']])\n",
    "final_pred"
   ]
  }
 ],
 "metadata": {
  "kernelspec": {
   "display_name": "Python 3 (ipykernel)",
   "language": "python",
   "name": "python3"
  },
  "language_info": {
   "codemirror_mode": {
    "name": "ipython",
    "version": 3
   },
   "file_extension": ".py",
   "mimetype": "text/x-python",
   "name": "python",
   "nbconvert_exporter": "python",
   "pygments_lexer": "ipython3",
   "version": "3.9.12"
  }
 },
 "nbformat": 4,
 "nbformat_minor": 5
}

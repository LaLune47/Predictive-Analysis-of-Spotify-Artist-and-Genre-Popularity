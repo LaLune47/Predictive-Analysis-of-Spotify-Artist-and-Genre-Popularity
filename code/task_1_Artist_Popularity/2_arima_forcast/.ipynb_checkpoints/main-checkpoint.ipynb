{
 "cells": [
  {
   "cell_type": "raw",
   "source": [],
   "metadata": {
    "collapsed": false
   },
   "id": "c3a53a471f1666b6"
  }
 ],
 "metadata": {},
 "nbformat": 4,
 "nbformat_minor": 5
}

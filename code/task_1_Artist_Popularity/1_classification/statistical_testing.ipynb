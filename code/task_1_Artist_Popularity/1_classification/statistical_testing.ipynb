{
 "cells": [
  {
   "cell_type": "markdown",
   "id": "f984b470",
   "metadata": {},
   "source": [
    "### Data"
   ]
  },
  {
   "cell_type": "code",
   "execution_count": 2,
   "id": "669bde0a",
   "metadata": {},
   "outputs": [],
   "source": [
    "import pandas as pd\n",
    "\n",
    "X_train = pd.read_csv('../../data/pca_class_train_df.csv')\n",
    "X_test = pd.read_csv('../../data/pca_class_test_df.csv')"
   ]
  },
  {
   "cell_type": "code",
   "execution_count": 3,
   "id": "48389fa7",
   "metadata": {},
   "outputs": [],
   "source": [
    "import numpy as np\n",
    "\n",
    "y_train = np.load('../../data/prep_class_train_y.npy', allow_pickle=True)\n",
    "y_test = np.load('../../data/prep_class_test_y.npy', allow_pickle=True)"
   ]
  },
  {
   "cell_type": "markdown",
   "id": "ce376e05",
   "metadata": {},
   "source": [
    "### Cross-Validation (K = 10)\n",
    "#### Naive Bayes"
   ]
  },
  {
   "cell_type": "code",
   "execution_count": 5,
   "id": "efabb3b6",
   "metadata": {},
   "outputs": [
    {
     "name": "stdout",
     "output_type": "stream",
     "text": [
      "Cross-Validation Results: \n",
      "Split 0: 0.5413636964281939\n",
      "Split 1: 0.540927726862037\n",
      "Split 2: 0.5413214533619449\n",
      "Split 3: 0.5402645316151716\n",
      "Split 4: 0.5421297354821258\n",
      "Split 5: 0.5403403650754706\n",
      "Split 6: 0.5413576779299764\n",
      "Split 7: 0.5384764013726594\n",
      "Split 8: 0.5435787518587176\n",
      "Split 9: 0.5409998940725943\n"
     ]
    }
   ],
   "source": [
    "from sklearn.naive_bayes import GaussianNB\n",
    "from sklearn.model_selection import cross_validate\n",
    "\n",
    "nb_clf = GaussianNB()\n",
    "cv_results = cross_validate(nb_clf, X_train, y_train, scoring='roc_auc_ovr', cv=10)\n",
    "\n",
    "print(f\"Cross-Validation Results: \")\n",
    "for i, res in enumerate(cv_results['test_score']):\n",
    "    print(f\"Split {i}: {res}\")"
   ]
  },
  {
   "cell_type": "markdown",
   "id": "557bcf91",
   "metadata": {},
   "source": [
    "#### Logistic Regression"
   ]
  },
  {
   "cell_type": "code",
   "execution_count": 4,
   "id": "ab638158",
   "metadata": {},
   "outputs": [
    {
     "name": "stdout",
     "output_type": "stream",
     "text": [
      "Cross-Validation Results: \n",
      "Split 0: 0.5392128201828734\n",
      "Split 1: 0.5403987746366437\n",
      "Split 2: 0.5398123519916622\n",
      "Split 3: 0.5416922759381646\n",
      "Split 4: 0.5432581041780364\n",
      "Split 5: 0.5411533782354635\n",
      "Split 6: 0.5447392052737194\n",
      "Split 7: 0.5391265756003321\n",
      "Split 8: 0.544480374768354\n",
      "Split 9: 0.5415664117378597\n"
     ]
    }
   ],
   "source": [
    "from sklearn.linear_model import LogisticRegression\n",
    "from sklearn.model_selection import cross_validate\n",
    "\n",
    "lr_clf = LogisticRegression(C=0.5, penalty='l1', random_state=42, solver='saga')\n",
    "cv_results = cross_validate(lr_clf, X_train, y_train, scoring='roc_auc_ovr', cv=10)\n",
    "\n",
    "print(f\"Cross-Validation Results: \")\n",
    "for i, res in enumerate(cv_results['test_score']):\n",
    "    print(f\"Split {i}: {res}\")"
   ]
  },
  {
   "cell_type": "markdown",
   "id": "32b669ad",
   "metadata": {},
   "source": [
    "#### K-Nearest Neighbours"
   ]
  },
  {
   "cell_type": "code",
   "execution_count": 5,
   "id": "ef6305d2",
   "metadata": {},
   "outputs": [
    {
     "name": "stdout",
     "output_type": "stream",
     "text": [
      "Cross-Validation Results: \n",
      "Split 0: 0.932425294621886\n",
      "Split 1: 0.9332457925513035\n",
      "Split 2: 0.9340682595537286\n",
      "Split 3: 0.934183067178038\n",
      "Split 4: 0.9328961374969567\n",
      "Split 5: 0.9341383993690154\n",
      "Split 6: 0.9325893154900253\n",
      "Split 7: 0.9334094656413248\n",
      "Split 8: 0.933964697711354\n",
      "Split 9: 0.9337095340418958\n"
     ]
    }
   ],
   "source": [
    "from sklearn.neighbors import KNeighborsClassifier\n",
    "from sklearn.model_selection import cross_validate\n",
    "\n",
    "knn_clf = KNeighborsClassifier(n_neighbors=15, weights='distance')\n",
    "cv_results = cross_validate(knn_clf, X_train, y_train, scoring='roc_auc_ovr', cv=10)\n",
    "\n",
    "print(f\"Cross-Validation Results: \")\n",
    "for i, res in enumerate(cv_results['test_score']):\n",
    "    print(f\"Split {i}: {res}\")"
   ]
  },
  {
   "cell_type": "markdown",
   "id": "3b9cc2f9",
   "metadata": {},
   "source": [
    "#### Random Forest"
   ]
  },
  {
   "cell_type": "code",
   "execution_count": 8,
   "id": "6d3dd179",
   "metadata": {},
   "outputs": [
    {
     "name": "stdout",
     "output_type": "stream",
     "text": [
      "Cross-Validation Results: \n",
      "Split 0: 0.9349587850119839\n",
      "Split 1: 0.9358971148949161\n",
      "Split 2: 0.936442787465342\n",
      "Split 3: 0.9363167071582132\n",
      "Split 4: 0.9344636418213375\n",
      "Split 5: 0.9355388619906295\n",
      "Split 6: 0.9350345462123316\n",
      "Split 7: 0.9347981676651227\n",
      "Split 8: 0.9366022264940312\n",
      "Split 9: 0.9368055526511785\n"
     ]
    }
   ],
   "source": [
    "from sklearn.ensemble import RandomForestClassifier\n",
    "from sklearn.model_selection import cross_validate\n",
    "\n",
    "rf_clf = RandomForestClassifier(max_depth=25, n_estimators=150, random_state=42)\n",
    "cv_results = cross_validate(rf_clf, X_train, y_train, scoring='roc_auc_ovr', cv=10)\n",
    "\n",
    "print(f\"Cross-Validation Results: \")\n",
    "for i, res in enumerate(cv_results['test_score']):\n",
    "    print(f\"Split {i}: {res}\")"
   ]
  },
  {
   "cell_type": "markdown",
   "id": "0bf78eea",
   "metadata": {},
   "source": [
    "#### Multilayer Perceptron"
   ]
  },
  {
   "cell_type": "code",
   "execution_count": 3,
   "id": "6aec0dcd",
   "metadata": {
    "slideshow": {
     "slide_type": ""
    },
    "tags": []
   },
   "outputs": [
    {
     "name": "stderr",
     "output_type": "stream",
     "text": [
      "/opt/conda/lib/python3.11/site-packages/sklearn/neural_network/_multilayer_perceptron.py:690: ConvergenceWarning: Stochastic Optimizer: Maximum iterations (200) reached and the optimization hasn't converged yet.\n",
      "  warnings.warn(\n",
      "/opt/conda/lib/python3.11/site-packages/sklearn/neural_network/_multilayer_perceptron.py:690: ConvergenceWarning: Stochastic Optimizer: Maximum iterations (200) reached and the optimization hasn't converged yet.\n",
      "  warnings.warn(\n",
      "/opt/conda/lib/python3.11/site-packages/sklearn/neural_network/_multilayer_perceptron.py:690: ConvergenceWarning: Stochastic Optimizer: Maximum iterations (200) reached and the optimization hasn't converged yet.\n",
      "  warnings.warn(\n",
      "/opt/conda/lib/python3.11/site-packages/sklearn/neural_network/_multilayer_perceptron.py:690: ConvergenceWarning: Stochastic Optimizer: Maximum iterations (200) reached and the optimization hasn't converged yet.\n",
      "  warnings.warn(\n",
      "/opt/conda/lib/python3.11/site-packages/sklearn/neural_network/_multilayer_perceptron.py:690: ConvergenceWarning: Stochastic Optimizer: Maximum iterations (200) reached and the optimization hasn't converged yet.\n",
      "  warnings.warn(\n",
      "/opt/conda/lib/python3.11/site-packages/sklearn/neural_network/_multilayer_perceptron.py:690: ConvergenceWarning: Stochastic Optimizer: Maximum iterations (200) reached and the optimization hasn't converged yet.\n",
      "  warnings.warn(\n",
      "/opt/conda/lib/python3.11/site-packages/sklearn/neural_network/_multilayer_perceptron.py:690: ConvergenceWarning: Stochastic Optimizer: Maximum iterations (200) reached and the optimization hasn't converged yet.\n",
      "  warnings.warn(\n",
      "/opt/conda/lib/python3.11/site-packages/sklearn/neural_network/_multilayer_perceptron.py:690: ConvergenceWarning: Stochastic Optimizer: Maximum iterations (200) reached and the optimization hasn't converged yet.\n",
      "  warnings.warn(\n",
      "/opt/conda/lib/python3.11/site-packages/sklearn/neural_network/_multilayer_perceptron.py:690: ConvergenceWarning: Stochastic Optimizer: Maximum iterations (200) reached and the optimization hasn't converged yet.\n",
      "  warnings.warn(\n",
      "/opt/conda/lib/python3.11/site-packages/sklearn/neural_network/_multilayer_perceptron.py:690: ConvergenceWarning: Stochastic Optimizer: Maximum iterations (200) reached and the optimization hasn't converged yet.\n",
      "  warnings.warn(\n"
     ]
    },
    {
     "name": "stdout",
     "output_type": "stream",
     "text": [
      "Cross-Validation Results: \n",
      "Split 0: 0.7236546119228913\n",
      "Split 1: 0.7247941313963037\n",
      "Split 2: 0.7274510628386941\n",
      "Split 3: 0.7232412075034788\n",
      "Split 4: 0.7241007882185003\n",
      "Split 5: 0.7237215547004727\n",
      "Split 6: 0.7221964517070979\n",
      "Split 7: 0.7187309230263887\n",
      "Split 8: 0.7229197002554162\n",
      "Split 9: 0.7240168256707262\n"
     ]
    }
   ],
   "source": [
    "from sklearn.neural_network import MLPClassifier\n",
    "from sklearn.model_selection import cross_validate\n",
    "\n",
    "mlp_clf = MLPClassifier(hidden_layer_sizes=512, random_state=42)\n",
    "cv_results = cross_validate(mlp_clf, X_train, y_train, scoring='roc_auc_ovr', cv=10)\n",
    "\n",
    "print(f\"Cross-Validation Results: \")\n",
    "for i, res in enumerate(cv_results['test_score']):\n",
    "    print(f\"Split {i}: {res}\")"
   ]
  },
  {
   "cell_type": "markdown",
   "id": "2a74d6b5",
   "metadata": {},
   "source": [
    "### Statistical Testing\n",
    "#### Between Best Models"
   ]
  },
  {
   "cell_type": "code",
   "execution_count": 6,
   "id": "ae75a09a",
   "metadata": {},
   "outputs": [
    {
     "name": "stdout",
     "output_type": "stream",
     "text": [
      "t-statistic: -11.983821530365955\n",
      "p_value: 7.788878642697853e-07\n"
     ]
    }
   ],
   "source": [
    "from scipy.stats import ttest_rel\n",
    "\n",
    "knn_cv = [0.932425294621886, 0.9332457925513035, 0.9340682595537286, 0.934183067178038, 0.9328961374969567,\n",
    "          0.9341383993690154, 0.9325893154900253, 0.9334094656413248, 0.933964697711354, 0.9337095340418958]\n",
    "rf_cv = [0.9349587850119839, 0.9358971148949161, 0.936442787465342, 0.9363167071582132, 0.9344636418213375, \n",
    "         0.9355388619906295, 0.9350345462123316, 0.9347981676651227, 0.9366022264940312, 0.9368055526511785]\n",
    "\n",
    "t_stat, p_value = ttest_rel(knn_cv, rf_cv)\n",
    "\n",
    "print(f\"t-statistic: {t_stat}\")\n",
    "print(f\"p_value: {p_value}\")"
   ]
  },
  {
   "cell_type": "markdown",
   "id": "f52b3f35",
   "metadata": {},
   "source": [
    "#### Baseline and Best Model"
   ]
  },
  {
   "cell_type": "code",
   "execution_count": 2,
   "id": "e8eb0b4e",
   "metadata": {},
   "outputs": [
    {
     "name": "stdout",
     "output_type": "stream",
     "text": [
      "t-statistic: 1638.2761023792937\n",
      "p_value: 5.989368134616179e-26\n"
     ]
    }
   ],
   "source": [
    "from scipy.stats import ttest_rel\n",
    "\n",
    "rf_cv = [0.9349587850119839, 0.9358971148949161, 0.936442787465342, 0.9363167071582132, 0.9344636418213375, \n",
    "         0.9355388619906295, 0.9350345462123316, 0.9347981676651227, 0.9366022264940312, 0.9368055526511785]\n",
    "dummy_cv = [0.5, 0.5, 0.5, 0.5, 0.5, 0.5, 0.5, 0.5, 0.5, 0.5]\n",
    "\n",
    "t_stat, p_value = ttest_rel(rf_cv, dummy_cv)\n",
    "\n",
    "print(f\"t-statistic: {t_stat}\")\n",
    "print(f\"p_value: {p_value}\")"
   ]
  }
 ],
 "metadata": {
  "kernelspec": {
   "display_name": "Python 3 (ipykernel)",
   "language": "python",
   "name": "python3"
  },
  "language_info": {
   "codemirror_mode": {
    "name": "ipython",
    "version": 3
   },
   "file_extension": ".py",
   "mimetype": "text/x-python",
   "name": "python",
   "nbconvert_exporter": "python",
   "pygments_lexer": "ipython3",
   "version": "3.9.12"
  }
 },
 "nbformat": 4,
 "nbformat_minor": 5
}

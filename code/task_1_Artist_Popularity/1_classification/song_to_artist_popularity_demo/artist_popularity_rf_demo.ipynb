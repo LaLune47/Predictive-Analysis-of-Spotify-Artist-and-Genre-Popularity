{
 "cells": [
  {
   "cell_type": "markdown",
   "id": "5423b57c-c3e9-4dfe-bf74-c39dd6404575",
   "metadata": {},
   "source": [
    "## Reference to Report Section\n",
    "\n",
    "The code implements a Random Forest model demo to predict song popularity and subsequently uses these predictions to infer an artist's future influence. This approach aligns with the report's analysis:\n",
    "\n",
    "> \"A highly effective Random Forest model was selected based on its strong predictive capabilities in identifying popular songs and robust cross-validation results. Leveraging these predictions, the experiment explored whether the future popularity of certain old or simulated new songs could be used to infer the sustained popularity of their creators—namely, the artists themselves. The underlying assumption is that an artist's ability to produce or inspire trending songs strongly correlates with their ongoing prominence in the music industry. This approach offers a practical framework for forecasting artist future influence.\"\n"
   ]
  },
  {
   "metadata": {},
   "cell_type": "markdown",
   "source": "### step 0：import processed data",
   "id": "2e75c0594b8e8f03"
  },
  {
   "cell_type": "code",
   "id": "54e975cd-2204-47d9-a541-e5f5ee33ea5c",
   "metadata": {
    "ExecuteTime": {
     "end_time": "2024-11-27T19:30:13.340487Z",
     "start_time": "2024-11-27T19:30:12.003352Z"
    }
   },
   "source": [
    "import pandas as pd\n",
    "import numpy as np\n",
    "\n",
    "file_path = 'Processed_Spotify_Dataset.csv'\n",
    "spotify_data = pd.read_csv(file_path)\n",
    "\n",
    "spotify_data.describe()"
   ],
   "outputs": [
    {
     "data": {
      "text/plain": [
       "                Rank   Danceability         Energy       Loudness  \\\n",
       "count  651963.000000  651963.000000  651963.000000  651963.000000   \n",
       "mean      100.406333       0.697730       0.652055       0.810895   \n",
       "std        57.407350       0.133183       0.155684       0.077403   \n",
       "min         1.000000       0.073000       0.005000       0.000000   \n",
       "25%        51.000000       0.617000       0.549000       0.768397   \n",
       "50%       100.000000       0.719000       0.671000       0.813250   \n",
       "75%       150.000000       0.793000       0.771000       0.850058   \n",
       "max       200.000000       0.985000       0.996000       1.000000   \n",
       "\n",
       "         Speechiness   Acousticness  Instrumentalness        Valence  \\\n",
       "count  651963.000000  651963.000000     651963.000000  651963.000000   \n",
       "mean        0.109943       0.230695          0.007647       0.523148   \n",
       "std         0.096840       0.230705          0.054723       0.223932   \n",
       "min         0.022000       0.000000          0.000000       0.026000   \n",
       "25%         0.045000       0.048000          0.000000       0.356000   \n",
       "50%         0.068000       0.152000          0.000000       0.521000   \n",
       "75%         0.136000       0.349000          0.000000       0.696000   \n",
       "max         0.966000       0.994000          0.956000       0.982000   \n",
       "\n",
       "       Artist (Ind.)    Nationality      Continent  Points (Total)  \\\n",
       "count  651963.000000  651963.000000  651963.000000   651963.000000   \n",
       "mean     1043.629152      53.991489       2.265400      100.593667   \n",
       "std       634.505775      23.460988       1.347108       57.407350   \n",
       "min         0.000000       0.000000       0.000000        1.000000   \n",
       "25%       493.000000      44.000000       1.000000       51.000000   \n",
       "50%       998.000000      70.000000       2.000000      101.000000   \n",
       "75%      1585.000000      71.000000       4.000000      150.000000   \n",
       "max      2207.000000      73.000000       6.000000      200.000000   \n",
       "\n",
       "       Points (Ind for each Artist/Nat)     Lag_Points  \n",
       "count                     651963.000000  651963.000000  \n",
       "mean                          72.391381      99.899703  \n",
       "std                           54.227081      56.603194  \n",
       "min                            0.200000       0.369004  \n",
       "25%                           28.000000      50.586716  \n",
       "50%                           60.000000      99.169742  \n",
       "75%                          104.000000     148.374539  \n",
       "max                          200.000000     200.000000  "
      ],
      "text/html": [
       "<div>\n",
       "<style scoped>\n",
       "    .dataframe tbody tr th:only-of-type {\n",
       "        vertical-align: middle;\n",
       "    }\n",
       "\n",
       "    .dataframe tbody tr th {\n",
       "        vertical-align: top;\n",
       "    }\n",
       "\n",
       "    .dataframe thead th {\n",
       "        text-align: right;\n",
       "    }\n",
       "</style>\n",
       "<table border=\"1\" class=\"dataframe\">\n",
       "  <thead>\n",
       "    <tr style=\"text-align: right;\">\n",
       "      <th></th>\n",
       "      <th>Rank</th>\n",
       "      <th>Danceability</th>\n",
       "      <th>Energy</th>\n",
       "      <th>Loudness</th>\n",
       "      <th>Speechiness</th>\n",
       "      <th>Acousticness</th>\n",
       "      <th>Instrumentalness</th>\n",
       "      <th>Valence</th>\n",
       "      <th>Artist (Ind.)</th>\n",
       "      <th>Nationality</th>\n",
       "      <th>Continent</th>\n",
       "      <th>Points (Total)</th>\n",
       "      <th>Points (Ind for each Artist/Nat)</th>\n",
       "      <th>Lag_Points</th>\n",
       "    </tr>\n",
       "  </thead>\n",
       "  <tbody>\n",
       "    <tr>\n",
       "      <th>count</th>\n",
       "      <td>651963.000000</td>\n",
       "      <td>651963.000000</td>\n",
       "      <td>651963.000000</td>\n",
       "      <td>651963.000000</td>\n",
       "      <td>651963.000000</td>\n",
       "      <td>651963.000000</td>\n",
       "      <td>651963.000000</td>\n",
       "      <td>651963.000000</td>\n",
       "      <td>651963.000000</td>\n",
       "      <td>651963.000000</td>\n",
       "      <td>651963.000000</td>\n",
       "      <td>651963.000000</td>\n",
       "      <td>651963.000000</td>\n",
       "      <td>651963.000000</td>\n",
       "    </tr>\n",
       "    <tr>\n",
       "      <th>mean</th>\n",
       "      <td>100.406333</td>\n",
       "      <td>0.697730</td>\n",
       "      <td>0.652055</td>\n",
       "      <td>0.810895</td>\n",
       "      <td>0.109943</td>\n",
       "      <td>0.230695</td>\n",
       "      <td>0.007647</td>\n",
       "      <td>0.523148</td>\n",
       "      <td>1043.629152</td>\n",
       "      <td>53.991489</td>\n",
       "      <td>2.265400</td>\n",
       "      <td>100.593667</td>\n",
       "      <td>72.391381</td>\n",
       "      <td>99.899703</td>\n",
       "    </tr>\n",
       "    <tr>\n",
       "      <th>std</th>\n",
       "      <td>57.407350</td>\n",
       "      <td>0.133183</td>\n",
       "      <td>0.155684</td>\n",
       "      <td>0.077403</td>\n",
       "      <td>0.096840</td>\n",
       "      <td>0.230705</td>\n",
       "      <td>0.054723</td>\n",
       "      <td>0.223932</td>\n",
       "      <td>634.505775</td>\n",
       "      <td>23.460988</td>\n",
       "      <td>1.347108</td>\n",
       "      <td>57.407350</td>\n",
       "      <td>54.227081</td>\n",
       "      <td>56.603194</td>\n",
       "    </tr>\n",
       "    <tr>\n",
       "      <th>min</th>\n",
       "      <td>1.000000</td>\n",
       "      <td>0.073000</td>\n",
       "      <td>0.005000</td>\n",
       "      <td>0.000000</td>\n",
       "      <td>0.022000</td>\n",
       "      <td>0.000000</td>\n",
       "      <td>0.000000</td>\n",
       "      <td>0.026000</td>\n",
       "      <td>0.000000</td>\n",
       "      <td>0.000000</td>\n",
       "      <td>0.000000</td>\n",
       "      <td>1.000000</td>\n",
       "      <td>0.200000</td>\n",
       "      <td>0.369004</td>\n",
       "    </tr>\n",
       "    <tr>\n",
       "      <th>25%</th>\n",
       "      <td>51.000000</td>\n",
       "      <td>0.617000</td>\n",
       "      <td>0.549000</td>\n",
       "      <td>0.768397</td>\n",
       "      <td>0.045000</td>\n",
       "      <td>0.048000</td>\n",
       "      <td>0.000000</td>\n",
       "      <td>0.356000</td>\n",
       "      <td>493.000000</td>\n",
       "      <td>44.000000</td>\n",
       "      <td>1.000000</td>\n",
       "      <td>51.000000</td>\n",
       "      <td>28.000000</td>\n",
       "      <td>50.586716</td>\n",
       "    </tr>\n",
       "    <tr>\n",
       "      <th>50%</th>\n",
       "      <td>100.000000</td>\n",
       "      <td>0.719000</td>\n",
       "      <td>0.671000</td>\n",
       "      <td>0.813250</td>\n",
       "      <td>0.068000</td>\n",
       "      <td>0.152000</td>\n",
       "      <td>0.000000</td>\n",
       "      <td>0.521000</td>\n",
       "      <td>998.000000</td>\n",
       "      <td>70.000000</td>\n",
       "      <td>2.000000</td>\n",
       "      <td>101.000000</td>\n",
       "      <td>60.000000</td>\n",
       "      <td>99.169742</td>\n",
       "    </tr>\n",
       "    <tr>\n",
       "      <th>75%</th>\n",
       "      <td>150.000000</td>\n",
       "      <td>0.793000</td>\n",
       "      <td>0.771000</td>\n",
       "      <td>0.850058</td>\n",
       "      <td>0.136000</td>\n",
       "      <td>0.349000</td>\n",
       "      <td>0.000000</td>\n",
       "      <td>0.696000</td>\n",
       "      <td>1585.000000</td>\n",
       "      <td>71.000000</td>\n",
       "      <td>4.000000</td>\n",
       "      <td>150.000000</td>\n",
       "      <td>104.000000</td>\n",
       "      <td>148.374539</td>\n",
       "    </tr>\n",
       "    <tr>\n",
       "      <th>max</th>\n",
       "      <td>200.000000</td>\n",
       "      <td>0.985000</td>\n",
       "      <td>0.996000</td>\n",
       "      <td>1.000000</td>\n",
       "      <td>0.966000</td>\n",
       "      <td>0.994000</td>\n",
       "      <td>0.956000</td>\n",
       "      <td>0.982000</td>\n",
       "      <td>2207.000000</td>\n",
       "      <td>73.000000</td>\n",
       "      <td>6.000000</td>\n",
       "      <td>200.000000</td>\n",
       "      <td>200.000000</td>\n",
       "      <td>200.000000</td>\n",
       "    </tr>\n",
       "  </tbody>\n",
       "</table>\n",
       "</div>"
      ]
     },
     "execution_count": 1,
     "metadata": {},
     "output_type": "execute_result"
    }
   ],
   "execution_count": 1
  },
  {
   "cell_type": "markdown",
   "id": "6778b90a-36f8-43e5-8730-8ac082947c1f",
   "metadata": {},
   "source": "### step 1：choose features and target"
  },
  {
   "cell_type": "code",
   "id": "initial_id",
   "metadata": {
    "ExecuteTime": {
     "end_time": "2024-11-27T19:30:19.007802Z",
     "start_time": "2024-11-27T19:30:18.292984Z"
    }
   },
   "source": [
    "from sklearn.ensemble import RandomForestRegressor, RandomForestClassifier\n",
    "from sklearn.preprocessing import StandardScaler\n",
    "from sklearn.metrics import mean_squared_error, r2_score, accuracy_score, confusion_matrix"
   ],
   "outputs": [],
   "execution_count": 2
  },
  {
   "cell_type": "code",
   "id": "a293b8d4-0a41-45f0-b759-ba81f31dfe45",
   "metadata": {
    "ExecuteTime": {
     "end_time": "2024-11-27T19:30:19.493349Z",
     "start_time": "2024-11-27T19:30:19.486592Z"
    }
   },
   "source": [
    "features = ['Lag_Points', 'Danceability', 'Energy', 'Loudness', 'Speechiness',\n",
    "            'Acousticness', 'Instrumentalness']\n",
    "\n",
    "# target for regression 'Points (Total)'\n",
    "# target for classification 'is_popular'\n",
    "target_reg = 'Points (Total)'\n",
    "spotify_data['is_popular'] = (spotify_data['Points (Total)'] > 180).astype(int)  # 构建分类标签\n",
    "target_clf = 'is_popular'"
   ],
   "outputs": [],
   "execution_count": 3
  },
  {
   "cell_type": "markdown",
   "id": "0f3b8742-c33f-4903-a21b-386e4a0ddd19",
   "metadata": {},
   "source": "### step 2: scaler and split"
  },
  {
   "cell_type": "code",
   "id": "1f70fa51-465f-4a73-abc3-df918eb296e4",
   "metadata": {
    "ExecuteTime": {
     "end_time": "2024-11-27T19:30:21.871924Z",
     "start_time": "2024-11-27T19:30:21.741358Z"
    }
   },
   "source": [
    "# 2017-2022 train data，2023 test data\n",
    "train_data = spotify_data[spotify_data['Date'] < '2022-05-29']\n",
    "test_data = spotify_data[spotify_data['Date'].between('2022-05-29', '2023-05-29')]\n",
    "\n",
    "# extract features\n",
    "X_train = train_data[features]\n",
    "y_train_reg = train_data[target_reg]\n",
    "y_train_clf = train_data[target_clf]\n",
    "\n",
    "X_test = test_data[features]\n",
    "y_test_reg = test_data[target_reg]\n",
    "y_test_clf = test_data[target_clf]\n",
    "\n",
    "# scale features\n",
    "scaler = StandardScaler()\n",
    "X_train = scaler.fit_transform(X_train)\n",
    "X_test = scaler.transform(X_test)\n",
    "\n",
    "print(f\"size of training set: {len(X_train)}, size of test set: {len(X_test)}\")"
   ],
   "outputs": [
    {
     "name": "stdout",
     "output_type": "stream",
     "text": [
      "size of training set: 548005, size of test set: 103958\n"
     ]
    }
   ],
   "execution_count": 4
  },
  {
   "cell_type": "markdown",
   "id": "2113129b-cd70-4c76-b99d-5c8c1ed2704a",
   "metadata": {},
   "source": "### step3 random forest regressor demo"
  },
  {
   "cell_type": "code",
   "id": "1f408eb1-8cf2-4557-8d94-07c2953bee65",
   "metadata": {
    "ExecuteTime": {
     "end_time": "2024-11-27T19:30:32.030296Z",
     "start_time": "2024-11-27T19:30:23.672277Z"
    }
   },
   "source": [
    "regressor = RandomForestRegressor(n_estimators=20, max_depth=5, random_state=42)\n",
    "\n",
    "regressor.fit(X_train, y_train_reg)\n",
    "\n",
    "y_pred_reg = regressor.predict(X_test)\n",
    "\n",
    "mse = mean_squared_error(y_test_reg, y_pred_reg)\n",
    "r2 = r2_score(y_test_reg, y_pred_reg)\n",
    "\n",
    "print(f\"random forest regressor (MSE): {mse:.2f}\")\n",
    "print(f\"random forest regressor R² : {r2:.2f}\")\n"
   ],
   "outputs": [
    {
     "name": "stdout",
     "output_type": "stream",
     "text": [
      "random forest regressor (MSE): 190.09\n",
      "random forest regressor R² : 0.94\n"
     ]
    }
   ],
   "execution_count": 5
  },
  {
   "cell_type": "markdown",
   "id": "4da3592b-7751-4028-9c65-c0c576baaa0b",
   "metadata": {},
   "source": "### step4 random forest classifier demo"
  },
  {
   "cell_type": "code",
   "id": "691efce9-7f1a-4d2e-a6b9-e677372d0637",
   "metadata": {
    "ExecuteTime": {
     "end_time": "2024-11-27T19:30:38.359338Z",
     "start_time": "2024-11-27T19:30:35.075673Z"
    }
   },
   "source": [
    "classifier = RandomForestClassifier(n_estimators=20, max_depth=5, random_state=42)\n",
    "\n",
    "classifier.fit(X_train, y_train_clf)\n",
    "\n",
    "y_pred_clf = classifier.predict(X_test)\n",
    "\n",
    "accuracy = accuracy_score(y_test_clf, y_pred_clf)\n",
    "conf_matrix = confusion_matrix(y_test_clf, y_pred_clf)\n",
    "\n",
    "print(f\"accuracy: {accuracy:.2f}\")\n",
    "print(\"conf_matrix:\")\n",
    "print(conf_matrix)"
   ],
   "outputs": [
    {
     "name": "stdout",
     "output_type": "stream",
     "text": [
      "accuracy: 0.99\n",
      "conf_matrix:\n",
      "[[92754   359]\n",
      " [  866  9979]]\n"
     ]
    }
   ],
   "execution_count": 6
  },
  {
   "cell_type": "markdown",
   "id": "aa5199e9-17fb-45ec-9aa5-22ef691074e6",
   "metadata": {},
   "source": "### step 5 prediction for songs and artists popularity in 2024"
  },
  {
   "cell_type": "code",
   "id": "a155bd6f-0af3-43de-beb5-c63685bfb82e",
   "metadata": {
    "ExecuteTime": {
     "end_time": "2024-11-27T19:30:41.344098Z",
     "start_time": "2024-11-27T19:30:41.338272Z"
    }
   },
   "source": [
    "\n",
    "import json\n",
    "from sklearn.preprocessing import LabelEncoder\n",
    "\n",
    "# load JSON \n",
    "with open('label_encoders.json', 'r') as f:\n",
    "    encoders_dict = json.load(f)\n",
    "\n",
    "# and get label_encoders\n",
    "label_encoders = {}\n",
    "for key, classes in encoders_dict.items():\n",
    "    le = LabelEncoder()\n",
    "    le.classes_ = np.array(classes)\n",
    "    label_encoders[key] = le"
   ],
   "outputs": [],
   "execution_count": 7
  },
  {
   "cell_type": "code",
   "id": "03110616-0e3f-4f34-831c-37214b7896e6",
   "metadata": {
    "ExecuteTime": {
     "end_time": "2024-11-27T19:30:42.792647Z",
     "start_time": "2024-11-27T19:30:42.778454Z"
    }
   },
   "source": [
    "# mock dataset in 2024 （use data in 2023）\n",
    "future_dates = pd.date_range(start='2024-01-01', end='2024-12-31', freq='D')\n",
    "future_data = test_data.copy() \n",
    "\n",
    "# predict Points (Total) in 2024\n",
    "future_data = future_data.iloc[:len(future_dates)] \n",
    "future_data['Date'] = future_dates\n",
    "future_features = scaler.transform(future_data[features])\n",
    "future_data['Predicted_Points'] = regressor.predict(future_features)\n",
    "\n",
    "# future_data.head(10)\n",
    "\n"
   ],
   "outputs": [],
   "execution_count": 8
  },
  {
   "cell_type": "code",
   "id": "b0d564f6-a74a-47f9-bab6-21959c6820c9",
   "metadata": {
    "ExecuteTime": {
     "end_time": "2024-11-27T19:30:44.589714Z",
     "start_time": "2024-11-27T19:30:44.580294Z"
    }
   },
   "source": [
    "# 1 prediction at song level\n",
    "\n",
    "future_data['Predicted_Points'] = regressor.predict(future_features)\n",
    "\n",
    "future_data[['id', 'Artist (Ind.)', 'Date', 'Predicted_Points']].head(10)"
   ],
   "outputs": [
    {
     "data": {
      "text/plain": [
       "                       id  Artist (Ind.)       Date  Predicted_Points\n",
       "0  3qQbCzHBycnDpGskqOWY0E            617 2024-01-01        197.347879\n",
       "1  3qQbCzHBycnDpGskqOWY0E           1558 2024-01-02        197.347879\n",
       "2  7ro0hRteUMfnOioTFI5TG1            183 2024-01-03        197.347879\n",
       "3  2UW7JaomAMuX9pZrjVpHAU           2121 2024-01-04        197.347879\n",
       "4  2UW7JaomAMuX9pZrjVpHAU           1558 2024-01-05        197.347879\n",
       "5  7FbrGaHYVDmfr7KoLIZnQ7            625 2024-01-06        197.347879\n",
       "6  6pD0ufEQq0xdHSsRbg9LBK            734 2024-01-07        197.347879\n",
       "7  6pD0ufEQq0xdHSsRbg9LBK            183 2024-01-08        197.347879\n",
       "8  4DHcnVTT87F0zZhRPYmZ3B           1371 2024-01-09        197.347879\n",
       "9  1odExI7RdWc4BT515LTAwj            484 2024-01-10        191.093843"
      ],
      "text/html": [
       "<div>\n",
       "<style scoped>\n",
       "    .dataframe tbody tr th:only-of-type {\n",
       "        vertical-align: middle;\n",
       "    }\n",
       "\n",
       "    .dataframe tbody tr th {\n",
       "        vertical-align: top;\n",
       "    }\n",
       "\n",
       "    .dataframe thead th {\n",
       "        text-align: right;\n",
       "    }\n",
       "</style>\n",
       "<table border=\"1\" class=\"dataframe\">\n",
       "  <thead>\n",
       "    <tr style=\"text-align: right;\">\n",
       "      <th></th>\n",
       "      <th>id</th>\n",
       "      <th>Artist (Ind.)</th>\n",
       "      <th>Date</th>\n",
       "      <th>Predicted_Points</th>\n",
       "    </tr>\n",
       "  </thead>\n",
       "  <tbody>\n",
       "    <tr>\n",
       "      <th>0</th>\n",
       "      <td>3qQbCzHBycnDpGskqOWY0E</td>\n",
       "      <td>617</td>\n",
       "      <td>2024-01-01</td>\n",
       "      <td>197.347879</td>\n",
       "    </tr>\n",
       "    <tr>\n",
       "      <th>1</th>\n",
       "      <td>3qQbCzHBycnDpGskqOWY0E</td>\n",
       "      <td>1558</td>\n",
       "      <td>2024-01-02</td>\n",
       "      <td>197.347879</td>\n",
       "    </tr>\n",
       "    <tr>\n",
       "      <th>2</th>\n",
       "      <td>7ro0hRteUMfnOioTFI5TG1</td>\n",
       "      <td>183</td>\n",
       "      <td>2024-01-03</td>\n",
       "      <td>197.347879</td>\n",
       "    </tr>\n",
       "    <tr>\n",
       "      <th>3</th>\n",
       "      <td>2UW7JaomAMuX9pZrjVpHAU</td>\n",
       "      <td>2121</td>\n",
       "      <td>2024-01-04</td>\n",
       "      <td>197.347879</td>\n",
       "    </tr>\n",
       "    <tr>\n",
       "      <th>4</th>\n",
       "      <td>2UW7JaomAMuX9pZrjVpHAU</td>\n",
       "      <td>1558</td>\n",
       "      <td>2024-01-05</td>\n",
       "      <td>197.347879</td>\n",
       "    </tr>\n",
       "    <tr>\n",
       "      <th>5</th>\n",
       "      <td>7FbrGaHYVDmfr7KoLIZnQ7</td>\n",
       "      <td>625</td>\n",
       "      <td>2024-01-06</td>\n",
       "      <td>197.347879</td>\n",
       "    </tr>\n",
       "    <tr>\n",
       "      <th>6</th>\n",
       "      <td>6pD0ufEQq0xdHSsRbg9LBK</td>\n",
       "      <td>734</td>\n",
       "      <td>2024-01-07</td>\n",
       "      <td>197.347879</td>\n",
       "    </tr>\n",
       "    <tr>\n",
       "      <th>7</th>\n",
       "      <td>6pD0ufEQq0xdHSsRbg9LBK</td>\n",
       "      <td>183</td>\n",
       "      <td>2024-01-08</td>\n",
       "      <td>197.347879</td>\n",
       "    </tr>\n",
       "    <tr>\n",
       "      <th>8</th>\n",
       "      <td>4DHcnVTT87F0zZhRPYmZ3B</td>\n",
       "      <td>1371</td>\n",
       "      <td>2024-01-09</td>\n",
       "      <td>197.347879</td>\n",
       "    </tr>\n",
       "    <tr>\n",
       "      <th>9</th>\n",
       "      <td>1odExI7RdWc4BT515LTAwj</td>\n",
       "      <td>484</td>\n",
       "      <td>2024-01-10</td>\n",
       "      <td>191.093843</td>\n",
       "    </tr>\n",
       "  </tbody>\n",
       "</table>\n",
       "</div>"
      ]
     },
     "execution_count": 9,
     "metadata": {},
     "output_type": "execute_result"
    }
   ],
   "execution_count": 9
  },
  {
   "cell_type": "code",
   "id": "024345e7-2e4f-4f74-849e-ee0109ff2738",
   "metadata": {
    "ExecuteTime": {
     "end_time": "2024-11-27T19:30:45.631624Z",
     "start_time": "2024-11-27T19:30:45.619134Z"
    }
   },
   "source": [
    "# 2 prediction at artist level\n",
    "# compute the average points for each artist\n",
    "artist_predictions = future_data.groupby('Artist (Ind.)')['Predicted_Points'].mean().reset_index()\n",
    "artist_predictions.columns = ['Artist (Ind.)', 'Avg_Predicted_Points']\n",
    "\n",
    "artist_predictions.head(10)"
   ],
   "outputs": [
    {
     "data": {
      "text/plain": [
       "   Artist (Ind.)  Avg_Predicted_Points\n",
       "0              2             90.650191\n",
       "1              4            112.901040\n",
       "2              8            111.971455\n",
       "3             56             71.047722\n",
       "4             63             98.199279\n",
       "5            100             61.272423\n",
       "6            102             98.199279\n",
       "7            113            135.083256\n",
       "8            119            141.307228\n",
       "9            128            112.379802"
      ],
      "text/html": [
       "<div>\n",
       "<style scoped>\n",
       "    .dataframe tbody tr th:only-of-type {\n",
       "        vertical-align: middle;\n",
       "    }\n",
       "\n",
       "    .dataframe tbody tr th {\n",
       "        vertical-align: top;\n",
       "    }\n",
       "\n",
       "    .dataframe thead th {\n",
       "        text-align: right;\n",
       "    }\n",
       "</style>\n",
       "<table border=\"1\" class=\"dataframe\">\n",
       "  <thead>\n",
       "    <tr style=\"text-align: right;\">\n",
       "      <th></th>\n",
       "      <th>Artist (Ind.)</th>\n",
       "      <th>Avg_Predicted_Points</th>\n",
       "    </tr>\n",
       "  </thead>\n",
       "  <tbody>\n",
       "    <tr>\n",
       "      <th>0</th>\n",
       "      <td>2</td>\n",
       "      <td>90.650191</td>\n",
       "    </tr>\n",
       "    <tr>\n",
       "      <th>1</th>\n",
       "      <td>4</td>\n",
       "      <td>112.901040</td>\n",
       "    </tr>\n",
       "    <tr>\n",
       "      <th>2</th>\n",
       "      <td>8</td>\n",
       "      <td>111.971455</td>\n",
       "    </tr>\n",
       "    <tr>\n",
       "      <th>3</th>\n",
       "      <td>56</td>\n",
       "      <td>71.047722</td>\n",
       "    </tr>\n",
       "    <tr>\n",
       "      <th>4</th>\n",
       "      <td>63</td>\n",
       "      <td>98.199279</td>\n",
       "    </tr>\n",
       "    <tr>\n",
       "      <th>5</th>\n",
       "      <td>100</td>\n",
       "      <td>61.272423</td>\n",
       "    </tr>\n",
       "    <tr>\n",
       "      <th>6</th>\n",
       "      <td>102</td>\n",
       "      <td>98.199279</td>\n",
       "    </tr>\n",
       "    <tr>\n",
       "      <th>7</th>\n",
       "      <td>113</td>\n",
       "      <td>135.083256</td>\n",
       "    </tr>\n",
       "    <tr>\n",
       "      <th>8</th>\n",
       "      <td>119</td>\n",
       "      <td>141.307228</td>\n",
       "    </tr>\n",
       "    <tr>\n",
       "      <th>9</th>\n",
       "      <td>128</td>\n",
       "      <td>112.379802</td>\n",
       "    </tr>\n",
       "  </tbody>\n",
       "</table>\n",
       "</div>"
      ]
     },
     "execution_count": 10,
     "metadata": {},
     "output_type": "execute_result"
    }
   ],
   "execution_count": 10
  },
  {
   "cell_type": "code",
   "id": "5d518600-133b-48fe-b27d-b27b2cc4b6b3",
   "metadata": {
    "ExecuteTime": {
     "end_time": "2024-11-27T19:30:46.578132Z",
     "start_time": "2024-11-27T19:30:46.572595Z"
    }
   },
   "source": [
    "# get popular artist list \n",
    "\n",
    "popularity_threshold = 180\n",
    "\n",
    "artist_predictions['is_popular'] = (artist_predictions['Avg_Predicted_Points'] > popularity_threshold).astype(int)\n",
    "\n",
    "predicted_popular_artists = artist_predictions[artist_predictions['is_popular'] == 1]['Artist (Ind.)'].unique()\n",
    "original_artists = label_encoders['Artist (Ind.)'].inverse_transform(predicted_popular_artists)\n",
    "\n",
    "print(\"2024 popular artist list\", original_artists)"
   ],
   "outputs": [
    {
     "name": "stdout",
     "output_type": "stream",
     "text": [
      "2024 popular artist list ['Ariana Grande' 'David Kushner' 'Eslabon Armado' 'FIFTY FIFTY'\n",
      " 'Miley Cyrus' 'Rema' 'Selena Gomez' 'Yng Lvcas' 'Young Miko']\n"
     ]
    }
   ],
   "execution_count": 11
  },
  {
   "cell_type": "code",
   "id": "fcdbb5ab-a2d6-4999-81c8-57b89b095447",
   "metadata": {
    "ExecuteTime": {
     "end_time": "2024-11-27T19:30:47.918332Z",
     "start_time": "2024-11-27T19:30:47.602325Z"
    }
   },
   "source": [
    "import matplotlib.pyplot as plt\n",
    "\n",
    "# Visualizing the distribution of average predicted ratings for artists\n",
    "plt.figure(figsize=(12, 6))\n",
    "plt.hist(artist_predictions['Avg_Predicted_Points'], bins=30, color='skyblue', edgecolor='black')\n",
    "plt.axvline(x=popularity_threshold, color='red', linestyle='--', label='Popularity Threshold')\n",
    "plt.xlabel('Average Predicted Points')\n",
    "plt.ylabel('Number of Artists')\n",
    "plt.title('Distribution of Average Predicted Points for Artists (2024)')\n",
    "plt.legend()\n",
    "plt.grid()\n",
    "plt.show()"
   ],
   "outputs": [
    {
     "data": {
      "text/plain": [
       "<Figure size 1200x600 with 1 Axes>"
      ],
      "image/png": "[encoded data removed]"
     },
     "metadata": {},
     "output_type": "display_data"
    }
   ],
   "execution_count": 12
  },
  {
   "metadata": {},
   "cell_type": "code",
   "outputs": [],
   "execution_count": null,
   "source": "",
   "id": "e65310c6dc370b33"
  }
 ],
 "metadata": {
  "kernelspec": {
   "display_name": "Python 3 (ipykernel)",
   "language": "python",
   "name": "python3"
  },
  "language_info": {
   "codemirror_mode": {
    "name": "ipython",
    "version": 3
   },
   "file_extension": ".py",
   "mimetype": "text/x-python",
   "name": "python",
   "nbconvert_exporter": "python",
   "pygments_lexer": "ipython3",
   "version": "3.9.20"
  }
 },
 "nbformat": 4,
 "nbformat_minor": 5
}

{
 "cells": [
  {
   "cell_type": "markdown",
   "id": "448ceb1a",
   "metadata": {},
   "source": [
    "### Data"
   ]
  },
  {
   "cell_type": "code",
   "execution_count": 3,
   "id": "0d7278e1",
   "metadata": {},
   "outputs": [],
   "source": [
    "import pandas as pd\n",
    "\n",
    "X_train = pd.read_csv('../../data/pca_class_train_df.csv')\n",
    "X_test = pd.read_csv('../../data/pca_class_test_df.csv')"
   ]
  },
  {
   "cell_type": "code",
   "execution_count": 5,
   "id": "d96cb68e",
   "metadata": {},
   "outputs": [],
   "source": [
    "import numpy as np\n",
    "\n",
    "y_train = np.load('../../data/prep_class_train_y.npy', allow_pickle=True)\n",
    "y_test = np.load('../../data/prep_class_test_y.npy', allow_pickle=True)"
   ]
  },
  {
   "cell_type": "markdown",
   "id": "ee88171b",
   "metadata": {},
   "source": [
    "### Models\n",
    "#### Baseline"
   ]
  },
  {
   "cell_type": "code",
   "execution_count": 10,
   "id": "09cbc44a",
   "metadata": {},
   "outputs": [
    {
     "name": "stdout",
     "output_type": "stream",
     "text": [
      "Train Set ROC AUC Score: 0.5\n",
      "Test Set ROC AUC Score: 0.5\n"
     ]
    }
   ],
   "source": [
    "from sklearn.dummy import DummyClassifier\n",
    "from sklearn.metrics import roc_auc_score\n",
    "\n",
    "dummy_clf = DummyClassifier()\n",
    "dummy_clf.fit(X_train, y_train)\n",
    "\n",
    "train_pred = dummy_clf.predict_proba(X_train)\n",
    "test_pred = dummy_clf.predict_proba(X_test)\n",
    "\n",
    "print(f\"Train Set ROC AUC Score: {roc_auc_score(y_train, train_pred, multi_class='ovr')}\")\n",
    "print(f\"Test Set ROC AUC Score: {roc_auc_score(y_test, test_pred, multi_class='ovr')}\")"
   ]
  },
  {
   "cell_type": "markdown",
   "id": "7a814c46",
   "metadata": {},
   "source": [
    "#### Naive Bayes"
   ]
  },
  {
   "cell_type": "code",
   "execution_count": 12,
   "id": "fbd50b65",
   "metadata": {},
   "outputs": [
    {
     "name": "stdout",
     "output_type": "stream",
     "text": [
      "Train Set ROC AUC Score: 0.5414844594916854\n",
      "Test Set ROC AUC Score: 0.5400626576657311\n"
     ]
    }
   ],
   "source": [
    "from sklearn.naive_bayes import GaussianNB\n",
    "\n",
    "nb_clf = GaussianNB()\n",
    "nb_clf.fit(X_train, y_train)\n",
    "\n",
    "train_pred = nb_clf.predict_proba(X_train)\n",
    "test_pred = nb_clf.predict_proba(X_test)\n",
    "\n",
    "print(f\"Train Set ROC AUC Score: {roc_auc_score(y_train, train_pred, multi_class='ovr')}\")\n",
    "print(f\"Test Set ROC AUC Score: {roc_auc_score(y_test, test_pred, multi_class='ovr')}\")"
   ]
  },
  {
   "cell_type": "markdown",
   "id": "07e58f25",
   "metadata": {},
   "source": [
    "#### Logistic Regression\n",
    "Baseline Logistic Regression"
   ]
  },
  {
   "cell_type": "code",
   "execution_count": 5,
   "id": "502d29b3",
   "metadata": {},
   "outputs": [
    {
     "name": "stdout",
     "output_type": "stream",
     "text": [
      "Train Set ROC AUC Score: 0.5417479606773504\n",
      "Test Set ROC AUC Score: 0.5406526177720592\n"
     ]
    }
   ],
   "source": [
    "from sklearn.linear_model import LogisticRegression\n",
    "\n",
    "lr_clf = LogisticRegression(solver='saga', random_state=42)\n",
    "lr_clf.fit(X_train, y_train)\n",
    "\n",
    "train_pred = lr_clf.predict_proba(X_train)\n",
    "test_pred = lr_clf.predict_proba(X_test)\n",
    "\n",
    "print(f\"Train Set ROC AUC Score: {roc_auc_score(y_train, train_pred, multi_class='ovr')}\")\n",
    "print(f\"Test Set ROC AUC Score: {roc_auc_score(y_test, test_pred, multi_class='ovr')}\")"
   ]
  },
  {
   "cell_type": "markdown",
   "id": "9f1480db",
   "metadata": {},
   "source": [
    "Hyperparameter Tuning"
   ]
  },
  {
   "cell_type": "code",
   "execution_count": 6,
   "id": "345b40e4",
   "metadata": {},
   "outputs": [
    {
     "name": "stdout",
     "output_type": "stream",
     "text": [
      "Best Hyperparameters: LogisticRegression(C=0.5, penalty='l1', random_state=42, solver='saga')\n",
      "Best Score: 0.5414952676408558\n"
     ]
    }
   ],
   "source": [
    "from sklearn.model_selection import GridSearchCV\n",
    "\n",
    "lr_tune = LogisticRegression(solver='saga', random_state=42)\n",
    "lr_parameters = {\n",
    "   'penalty': ['l1', 'l2'],\n",
    "    'C': [0.5, 1.0, 1.5]\n",
    "}\n",
    "\n",
    "lr_grid_search = GridSearchCV(lr_tune, lr_parameters, scoring='roc_auc_ovr')\n",
    "lr_grid_search.fit(X_train, y_train)\n",
    "\n",
    "print(f'Best Hyperparameters: {lr_grid_search.best_estimator_}')\n",
    "print(f'Best Score: {lr_grid_search.best_score_}')"
   ]
  },
  {
   "cell_type": "markdown",
   "id": "cdeb46d5",
   "metadata": {},
   "source": [
    "Best Model"
   ]
  },
  {
   "cell_type": "code",
   "execution_count": 7,
   "id": "fc3fbea3",
   "metadata": {},
   "outputs": [
    {
     "name": "stdout",
     "output_type": "stream",
     "text": [
      "Train Set ROC AUC Score: 0.5417482595037828\n",
      "Test Set ROC AUC Score: 0.5406525580374888\n"
     ]
    }
   ],
   "source": [
    "lr_grid_search.best_estimator_.fit(X_train, y_train)\n",
    "\n",
    "train_pred = lr_grid_search.best_estimator_.predict_proba(X_train)\n",
    "test_pred = lr_grid_search.best_estimator_.predict_proba(X_test)\n",
    "\n",
    "print(f\"Train Set ROC AUC Score: {roc_auc_score(y_train, train_pred, multi_class='ovr')}\")\n",
    "print(f\"Test Set ROC AUC Score: {roc_auc_score(y_test, test_pred, multi_class='ovr')}\")"
   ]
  },
  {
   "cell_type": "markdown",
   "id": "00a9301a",
   "metadata": {},
   "source": [
    "#### K-Nearest Neighbours (KNN)\n",
    "Baseline KNN"
   ]
  },
  {
   "cell_type": "code",
   "execution_count": 8,
   "id": "7cc28b60",
   "metadata": {},
   "outputs": [
    {
     "name": "stdout",
     "output_type": "stream",
     "text": [
      "Train Set ROC AUC Score: 0.9767575141058714\n",
      "Test Set ROC AUC Score: 0.9264584495152558\n"
     ]
    }
   ],
   "source": [
    "from sklearn.neighbors import KNeighborsClassifier\n",
    "\n",
    "knn_clf = KNeighborsClassifier()\n",
    "knn_clf.fit(X_train, y_train)\n",
    "\n",
    "train_pred = knn_clf.predict_proba(X_train)\n",
    "test_pred = knn_clf.predict_proba(X_test)\n",
    "\n",
    "print(f\"Train Set ROC AUC Score: {roc_auc_score(y_train, train_pred, multi_class='ovr')}\")\n",
    "print(f\"Test Set ROC AUC Score: {roc_auc_score(y_test, test_pred, multi_class='ovr')}\")"
   ]
  },
  {
   "cell_type": "markdown",
   "id": "2020657a",
   "metadata": {},
   "source": [
    "Hyperparameter Tuning"
   ]
  },
  {
   "cell_type": "code",
   "execution_count": 9,
   "id": "cac702fe",
   "metadata": {},
   "outputs": [
    {
     "name": "stdout",
     "output_type": "stream",
     "text": [
      "Best Hyperparameters: KNeighborsClassifier(n_neighbors=15, weights='distance')\n",
      "Best Score: 0.9315059717358303\n"
     ]
    }
   ],
   "source": [
    "from sklearn.model_selection import GridSearchCV\n",
    "\n",
    "knn_tune = KNeighborsClassifier()\n",
    "knn_parameters = {\n",
    "    'n_neighbors': [5, 10, 15, 20],\n",
    "    'weights': ['uniform', 'distance']\n",
    "}\n",
    "\n",
    "knn_grid_search = GridSearchCV(knn_tune, knn_parameters, scoring='roc_auc_ovr')\n",
    "knn_grid_search.fit(X_train, y_train)\n",
    "\n",
    "print(f'Best Hyperparameters: {knn_grid_search.best_estimator_}')\n",
    "print(f'Best Score: {knn_grid_search.best_score_}')"
   ]
  },
  {
   "cell_type": "markdown",
   "id": "ab1383e6",
   "metadata": {},
   "source": [
    "Best Model"
   ]
  },
  {
   "cell_type": "code",
   "execution_count": 10,
   "id": "5556582e",
   "metadata": {},
   "outputs": [
    {
     "name": "stdout",
     "output_type": "stream",
     "text": [
      "Train Set ROC AUC Score: 0.9999377325741339\n",
      "Test Set ROC AUC Score: 0.9373043549066183\n"
     ]
    }
   ],
   "source": [
    "knn_grid_search.best_estimator_.fit(X_train, y_train)\n",
    "\n",
    "train_pred = knn_grid_search.best_estimator_.predict_proba(X_train)\n",
    "test_pred = knn_grid_search.best_estimator_.predict_proba(X_test)\n",
    "\n",
    "print(f\"Train Set ROC AUC Score: {roc_auc_score(y_train, train_pred, multi_class='ovr')}\")\n",
    "print(f\"Test Set ROC AUC Score: {roc_auc_score(y_test, test_pred, multi_class='ovr')}\")"
   ]
  },
  {
   "cell_type": "markdown",
   "id": "f508ea8d",
   "metadata": {},
   "source": [
    "#### Random Forest\n",
    "Baseline Random Forest"
   ]
  },
  {
   "cell_type": "code",
   "execution_count": 11,
   "id": "49367bbb",
   "metadata": {},
   "outputs": [
    {
     "name": "stdout",
     "output_type": "stream",
     "text": [
      "Train Set ROC AUC Score: 0.9997556090332985\n",
      "Test Set ROC AUC Score: 0.9288835354541657\n"
     ]
    }
   ],
   "source": [
    "from sklearn.ensemble import RandomForestClassifier\n",
    "\n",
    "rf_clf = RandomForestClassifier(random_state=42)\n",
    "rf_clf.fit(X_train, y_train)\n",
    "\n",
    "train_pred = rf_clf.predict_proba(X_train)\n",
    "test_pred = rf_clf.predict_proba(X_test)\n",
    "\n",
    "print(f\"Train Set ROC AUC Score: {roc_auc_score(y_train, train_pred, multi_class='ovr')}\")\n",
    "print(f\"Test Set ROC AUC Score: {roc_auc_score(y_test, test_pred, multi_class='ovr')}\")"
   ]
  },
  {
   "cell_type": "markdown",
   "id": "45177920",
   "metadata": {},
   "source": [
    "Hyperparameter Tuning"
   ]
  },
  {
   "cell_type": "code",
   "execution_count": 12,
   "id": "2108a87e",
   "metadata": {
    "scrolled": true
   },
   "outputs": [
    {
     "name": "stdout",
     "output_type": "stream",
     "text": [
      "Fitting 5 folds for each of 30 candidates, totalling 150 fits\n",
      "[CV 1/5] END criterion=gini, max_depth=None, n_estimators=50;, score=0.921 total time=  57.4s\n",
      "[CV 2/5] END criterion=gini, max_depth=None, n_estimators=50;, score=0.923 total time=  55.9s\n",
      "[CV 3/5] END criterion=gini, max_depth=None, n_estimators=50;, score=0.921 total time=  56.2s\n",
      "[CV 4/5] END criterion=gini, max_depth=None, n_estimators=50;, score=0.921 total time=  56.2s\n",
      "[CV 5/5] END criterion=gini, max_depth=None, n_estimators=50;, score=0.922 total time=  58.7s\n",
      "[CV 1/5] END criterion=gini, max_depth=None, n_estimators=100;, score=0.926 total time= 1.9min\n",
      "[CV 2/5] END criterion=gini, max_depth=None, n_estimators=100;, score=0.927 total time= 2.0min\n",
      "[CV 3/5] END criterion=gini, max_depth=None, n_estimators=100;, score=0.926 total time= 2.0min\n",
      "[CV 4/5] END criterion=gini, max_depth=None, n_estimators=100;, score=0.925 total time= 1.9min\n",
      "[CV 5/5] END criterion=gini, max_depth=None, n_estimators=100;, score=0.926 total time= 1.9min\n",
      "[CV 1/5] END criterion=gini, max_depth=None, n_estimators=150;, score=0.927 total time= 2.8min\n",
      "[CV 2/5] END criterion=gini, max_depth=None, n_estimators=150;, score=0.928 total time= 2.9min\n",
      "[CV 3/5] END criterion=gini, max_depth=None, n_estimators=150;, score=0.927 total time= 3.0min\n",
      "[CV 4/5] END criterion=gini, max_depth=None, n_estimators=150;, score=0.927 total time= 3.1min\n",
      "[CV 5/5] END criterion=gini, max_depth=None, n_estimators=150;, score=0.928 total time= 3.2min\n",
      "[CV 1/5] END criterion=gini, max_depth=25, n_estimators=50;, score=0.932 total time= 1.0min\n",
      "[CV 2/5] END criterion=gini, max_depth=25, n_estimators=50;, score=0.933 total time= 1.0min\n",
      "[CV 3/5] END criterion=gini, max_depth=25, n_estimators=50;, score=0.931 total time= 1.0min\n",
      "[CV 4/5] END criterion=gini, max_depth=25, n_estimators=50;, score=0.931 total time= 1.0min\n",
      "[CV 5/5] END criterion=gini, max_depth=25, n_estimators=50;, score=0.932 total time= 1.0min\n",
      "[CV 1/5] END criterion=gini, max_depth=25, n_estimators=100;, score=0.933 total time= 2.0min\n",
      "[CV 2/5] END criterion=gini, max_depth=25, n_estimators=100;, score=0.934 total time= 2.0min\n",
      "[CV 3/5] END criterion=gini, max_depth=25, n_estimators=100;, score=0.933 total time= 2.0min\n",
      "[CV 4/5] END criterion=gini, max_depth=25, n_estimators=100;, score=0.932 total time= 2.1min\n",
      "[CV 5/5] END criterion=gini, max_depth=25, n_estimators=100;, score=0.933 total time= 2.1min\n",
      "[CV 1/5] END criterion=gini, max_depth=25, n_estimators=150;, score=0.933 total time= 3.0min\n",
      "[CV 2/5] END criterion=gini, max_depth=25, n_estimators=150;, score=0.934 total time= 3.1min\n",
      "[CV 3/5] END criterion=gini, max_depth=25, n_estimators=150;, score=0.933 total time= 3.1min\n",
      "[CV 4/5] END criterion=gini, max_depth=25, n_estimators=150;, score=0.932 total time= 3.1min\n",
      "[CV 5/5] END criterion=gini, max_depth=25, n_estimators=150;, score=0.934 total time= 3.1min\n",
      "[CV 1/5] END criterion=gini, max_depth=50, n_estimators=50;, score=0.921 total time= 1.1min\n",
      "[CV 2/5] END criterion=gini, max_depth=50, n_estimators=50;, score=0.922 total time= 1.1min\n",
      "[CV 3/5] END criterion=gini, max_depth=50, n_estimators=50;, score=0.921 total time= 1.1min\n",
      "[CV 4/5] END criterion=gini, max_depth=50, n_estimators=50;, score=0.921 total time= 1.1min\n",
      "[CV 5/5] END criterion=gini, max_depth=50, n_estimators=50;, score=0.922 total time= 1.1min\n",
      "[CV 1/5] END criterion=gini, max_depth=50, n_estimators=100;, score=0.926 total time= 2.1min\n",
      "[CV 2/5] END criterion=gini, max_depth=50, n_estimators=100;, score=0.927 total time= 2.0min\n",
      "[CV 3/5] END criterion=gini, max_depth=50, n_estimators=100;, score=0.926 total time= 3.8min\n",
      "[CV 4/5] END criterion=gini, max_depth=50, n_estimators=100;, score=0.925 total time= 2.1min\n",
      "[CV 5/5] END criterion=gini, max_depth=50, n_estimators=100;, score=0.926 total time= 2.2min\n",
      "[CV 1/5] END criterion=gini, max_depth=50, n_estimators=150;, score=0.927 total time= 3.4min\n",
      "[CV 2/5] END criterion=gini, max_depth=50, n_estimators=150;, score=0.928 total time= 3.4min\n",
      "[CV 3/5] END criterion=gini, max_depth=50, n_estimators=150;, score=0.927 total time= 3.3min\n",
      "[CV 4/5] END criterion=gini, max_depth=50, n_estimators=150;, score=0.927 total time= 3.7min\n",
      "[CV 5/5] END criterion=gini, max_depth=50, n_estimators=150;, score=0.928 total time= 3.2min\n",
      "[CV 1/5] END criterion=gini, max_depth=75, n_estimators=50;, score=0.921 total time= 1.1min\n",
      "[CV 2/5] END criterion=gini, max_depth=75, n_estimators=50;, score=0.923 total time= 1.1min\n",
      "[CV 3/5] END criterion=gini, max_depth=75, n_estimators=50;, score=0.921 total time= 1.1min\n",
      "[CV 4/5] END criterion=gini, max_depth=75, n_estimators=50;, score=0.921 total time= 1.1min\n",
      "[CV 5/5] END criterion=gini, max_depth=75, n_estimators=50;, score=0.922 total time= 1.1min\n",
      "[CV 1/5] END criterion=gini, max_depth=75, n_estimators=100;, score=0.926 total time= 2.2min\n",
      "[CV 2/5] END criterion=gini, max_depth=75, n_estimators=100;, score=0.927 total time= 2.2min\n",
      "[CV 3/5] END criterion=gini, max_depth=75, n_estimators=100;, score=0.926 total time= 2.1min\n",
      "[CV 4/5] END criterion=gini, max_depth=75, n_estimators=100;, score=0.925 total time= 2.1min\n",
      "[CV 5/5] END criterion=gini, max_depth=75, n_estimators=100;, score=0.926 total time= 2.1min\n",
      "[CV 1/5] END criterion=gini, max_depth=75, n_estimators=150;, score=0.927 total time= 3.1min\n",
      "[CV 2/5] END criterion=gini, max_depth=75, n_estimators=150;, score=0.928 total time= 3.1min\n",
      "[CV 3/5] END criterion=gini, max_depth=75, n_estimators=150;, score=0.927 total time= 3.1min\n",
      "[CV 4/5] END criterion=gini, max_depth=75, n_estimators=150;, score=0.927 total time= 3.2min\n",
      "[CV 5/5] END criterion=gini, max_depth=75, n_estimators=150;, score=0.928 total time= 3.2min\n",
      "[CV 1/5] END criterion=gini, max_depth=100, n_estimators=50;, score=0.921 total time= 1.0min\n",
      "[CV 2/5] END criterion=gini, max_depth=100, n_estimators=50;, score=0.923 total time= 1.1min\n",
      "[CV 3/5] END criterion=gini, max_depth=100, n_estimators=50;, score=0.921 total time= 1.1min\n",
      "[CV 4/5] END criterion=gini, max_depth=100, n_estimators=50;, score=0.921 total time= 1.1min\n",
      "[CV 5/5] END criterion=gini, max_depth=100, n_estimators=50;, score=0.922 total time= 1.0min\n",
      "[CV 1/5] END criterion=gini, max_depth=100, n_estimators=100;, score=0.926 total time= 2.0min\n",
      "[CV 2/5] END criterion=gini, max_depth=100, n_estimators=100;, score=0.927 total time= 2.3min\n",
      "[CV 3/5] END criterion=gini, max_depth=100, n_estimators=100;, score=0.926 total time= 2.1min\n",
      "[CV 4/5] END criterion=gini, max_depth=100, n_estimators=100;, score=0.925 total time= 2.1min\n",
      "[CV 5/5] END criterion=gini, max_depth=100, n_estimators=100;, score=0.926 total time= 2.1min\n",
      "[CV 1/5] END criterion=gini, max_depth=100, n_estimators=150;, score=0.927 total time= 3.1min\n",
      "[CV 2/5] END criterion=gini, max_depth=100, n_estimators=150;, score=0.928 total time=108.3min\n",
      "[CV 3/5] END criterion=gini, max_depth=100, n_estimators=150;, score=0.927 total time=107.1min\n",
      "[CV 4/5] END criterion=gini, max_depth=100, n_estimators=150;, score=0.927 total time= 3.2min\n",
      "[CV 5/5] END criterion=gini, max_depth=100, n_estimators=150;, score=0.928 total time= 3.3min\n",
      "[CV 1/5] END criterion=entropy, max_depth=None, n_estimators=50;, score=0.921 total time= 2.1min\n",
      "[CV 2/5] END criterion=entropy, max_depth=None, n_estimators=50;, score=0.923 total time= 2.1min\n",
      "[CV 3/5] END criterion=entropy, max_depth=None, n_estimators=50;, score=0.921 total time= 2.1min\n",
      "[CV 4/5] END criterion=entropy, max_depth=None, n_estimators=50;, score=0.921 total time= 2.1min\n",
      "[CV 5/5] END criterion=entropy, max_depth=None, n_estimators=50;, score=0.922 total time= 2.1min\n",
      "[CV 1/5] END criterion=entropy, max_depth=None, n_estimators=100;, score=0.925 total time= 4.2min\n",
      "[CV 2/5] END criterion=entropy, max_depth=None, n_estimators=100;, score=0.927 total time= 4.2min\n",
      "[CV 3/5] END criterion=entropy, max_depth=None, n_estimators=100;, score=0.926 total time= 4.2min\n",
      "[CV 4/5] END criterion=entropy, max_depth=None, n_estimators=100;, score=0.925 total time= 4.2min\n",
      "[CV 5/5] END criterion=entropy, max_depth=None, n_estimators=100;, score=0.926 total time= 4.2min\n",
      "[CV 1/5] END criterion=entropy, max_depth=None, n_estimators=150;, score=0.927 total time= 6.3min\n",
      "[CV 2/5] END criterion=entropy, max_depth=None, n_estimators=150;, score=0.928 total time= 6.3min\n"
     ]
    },
    {
     "name": "stdout",
     "output_type": "stream",
     "text": [
      "[CV 3/5] END criterion=entropy, max_depth=None, n_estimators=150;, score=0.927 total time= 6.3min\n",
      "[CV 4/5] END criterion=entropy, max_depth=None, n_estimators=150;, score=0.927 total time= 6.3min\n",
      "[CV 5/5] END criterion=entropy, max_depth=None, n_estimators=150;, score=0.928 total time= 6.3min\n",
      "[CV 1/5] END criterion=entropy, max_depth=25, n_estimators=50;, score=0.931 total time= 2.0min\n",
      "[CV 2/5] END criterion=entropy, max_depth=25, n_estimators=50;, score=0.931 total time= 2.0min\n",
      "[CV 3/5] END criterion=entropy, max_depth=25, n_estimators=50;, score=0.930 total time= 2.0min\n",
      "[CV 4/5] END criterion=entropy, max_depth=25, n_estimators=50;, score=0.929 total time= 2.0min\n",
      "[CV 5/5] END criterion=entropy, max_depth=25, n_estimators=50;, score=0.932 total time= 2.0min\n",
      "[CV 1/5] END criterion=entropy, max_depth=25, n_estimators=100;, score=0.932 total time= 4.0min\n",
      "[CV 2/5] END criterion=entropy, max_depth=25, n_estimators=100;, score=0.933 total time= 3.9min\n",
      "[CV 3/5] END criterion=entropy, max_depth=25, n_estimators=100;, score=0.932 total time= 4.0min\n",
      "[CV 4/5] END criterion=entropy, max_depth=25, n_estimators=100;, score=0.931 total time= 4.0min\n",
      "[CV 5/5] END criterion=entropy, max_depth=25, n_estimators=100;, score=0.933 total time= 4.0min\n",
      "[CV 1/5] END criterion=entropy, max_depth=25, n_estimators=150;, score=0.932 total time= 5.9min\n",
      "[CV 2/5] END criterion=entropy, max_depth=25, n_estimators=150;, score=0.933 total time= 6.0min\n",
      "[CV 3/5] END criterion=entropy, max_depth=25, n_estimators=150;, score=0.932 total time= 6.0min\n",
      "[CV 4/5] END criterion=entropy, max_depth=25, n_estimators=150;, score=0.931 total time= 6.0min\n",
      "[CV 5/5] END criterion=entropy, max_depth=25, n_estimators=150;, score=0.933 total time= 6.0min\n",
      "[CV 1/5] END criterion=entropy, max_depth=50, n_estimators=50;, score=0.921 total time= 2.0min\n",
      "[CV 2/5] END criterion=entropy, max_depth=50, n_estimators=50;, score=0.923 total time= 2.1min\n",
      "[CV 3/5] END criterion=entropy, max_depth=50, n_estimators=50;, score=0.921 total time= 2.1min\n",
      "[CV 4/5] END criterion=entropy, max_depth=50, n_estimators=50;, score=0.921 total time= 2.1min\n",
      "[CV 5/5] END criterion=entropy, max_depth=50, n_estimators=50;, score=0.922 total time= 2.1min\n",
      "[CV 1/5] END criterion=entropy, max_depth=50, n_estimators=100;, score=0.926 total time= 4.2min\n",
      "[CV 2/5] END criterion=entropy, max_depth=50, n_estimators=100;, score=0.927 total time= 4.1min\n",
      "[CV 3/5] END criterion=entropy, max_depth=50, n_estimators=100;, score=0.926 total time= 4.2min\n",
      "[CV 4/5] END criterion=entropy, max_depth=50, n_estimators=100;, score=0.925 total time= 4.2min\n",
      "[CV 5/5] END criterion=entropy, max_depth=50, n_estimators=100;, score=0.926 total time= 4.2min\n",
      "[CV 1/5] END criterion=entropy, max_depth=50, n_estimators=150;, score=0.927 total time= 6.2min\n",
      "[CV 2/5] END criterion=entropy, max_depth=50, n_estimators=150;, score=0.928 total time= 6.2min\n",
      "[CV 3/5] END criterion=entropy, max_depth=50, n_estimators=150;, score=0.927 total time= 6.3min\n",
      "[CV 4/5] END criterion=entropy, max_depth=50, n_estimators=150;, score=0.927 total time= 6.2min\n",
      "[CV 5/5] END criterion=entropy, max_depth=50, n_estimators=150;, score=0.928 total time= 6.2min\n",
      "[CV 1/5] END criterion=entropy, max_depth=75, n_estimators=50;, score=0.921 total time= 2.0min\n",
      "[CV 2/5] END criterion=entropy, max_depth=75, n_estimators=50;, score=0.923 total time= 2.1min\n",
      "[CV 3/5] END criterion=entropy, max_depth=75, n_estimators=50;, score=0.921 total time= 2.1min\n",
      "[CV 4/5] END criterion=entropy, max_depth=75, n_estimators=50;, score=0.921 total time= 2.1min\n",
      "[CV 5/5] END criterion=entropy, max_depth=75, n_estimators=50;, score=0.922 total time= 2.1min\n",
      "[CV 1/5] END criterion=entropy, max_depth=75, n_estimators=100;, score=0.925 total time= 4.1min\n",
      "[CV 2/5] END criterion=entropy, max_depth=75, n_estimators=100;, score=0.927 total time= 4.1min\n",
      "[CV 3/5] END criterion=entropy, max_depth=75, n_estimators=100;, score=0.926 total time= 4.2min\n",
      "[CV 4/5] END criterion=entropy, max_depth=75, n_estimators=100;, score=0.925 total time= 4.2min\n",
      "[CV 5/5] END criterion=entropy, max_depth=75, n_estimators=100;, score=0.926 total time= 4.2min\n",
      "[CV 1/5] END criterion=entropy, max_depth=75, n_estimators=150;, score=0.927 total time= 6.3min\n",
      "[CV 2/5] END criterion=entropy, max_depth=75, n_estimators=150;, score=0.928 total time= 6.3min\n",
      "[CV 3/5] END criterion=entropy, max_depth=75, n_estimators=150;, score=0.927 total time= 6.3min\n",
      "[CV 4/5] END criterion=entropy, max_depth=75, n_estimators=150;, score=0.927 total time= 6.3min\n",
      "[CV 5/5] END criterion=entropy, max_depth=75, n_estimators=150;, score=0.928 total time= 6.2min\n",
      "[CV 1/5] END criterion=entropy, max_depth=100, n_estimators=50;, score=0.921 total time= 2.0min\n",
      "[CV 2/5] END criterion=entropy, max_depth=100, n_estimators=50;, score=0.923 total time= 2.1min\n",
      "[CV 3/5] END criterion=entropy, max_depth=100, n_estimators=50;, score=0.921 total time= 2.1min\n",
      "[CV 4/5] END criterion=entropy, max_depth=100, n_estimators=50;, score=0.921 total time= 2.1min\n",
      "[CV 5/5] END criterion=entropy, max_depth=100, n_estimators=50;, score=0.922 total time= 2.1min\n",
      "[CV 1/5] END criterion=entropy, max_depth=100, n_estimators=100;, score=0.925 total time= 4.2min\n",
      "[CV 2/5] END criterion=entropy, max_depth=100, n_estimators=100;, score=0.927 total time= 4.1min\n",
      "[CV 3/5] END criterion=entropy, max_depth=100, n_estimators=100;, score=0.926 total time= 4.1min\n",
      "[CV 4/5] END criterion=entropy, max_depth=100, n_estimators=100;, score=0.925 total time= 4.2min\n",
      "[CV 5/5] END criterion=entropy, max_depth=100, n_estimators=100;, score=0.926 total time= 4.2min\n",
      "[CV 1/5] END criterion=entropy, max_depth=100, n_estimators=150;, score=0.927 total time= 6.2min\n",
      "[CV 2/5] END criterion=entropy, max_depth=100, n_estimators=150;, score=0.928 total time= 6.3min\n",
      "[CV 3/5] END criterion=entropy, max_depth=100, n_estimators=150;, score=0.927 total time= 6.3min\n",
      "[CV 4/5] END criterion=entropy, max_depth=100, n_estimators=150;, score=0.927 total time= 6.4min\n",
      "[CV 5/5] END criterion=entropy, max_depth=100, n_estimators=150;, score=0.928 total time= 6.3min\n",
      "Best Hyperparameters: RandomForestClassifier(max_depth=25, n_estimators=150, random_state=42)\n",
      "Best Score: 0.9332276746381669\n"
     ]
    }
   ],
   "source": [
    "from sklearn.model_selection import GridSearchCV\n",
    "\n",
    "rf_tune = RandomForestClassifier(random_state=42)\n",
    "rf_parameters = {\n",
    "    'n_estimators': [50, 100, 150],\n",
    "    'criterion': ['gini', 'entropy'],\n",
    "    'max_depth': [None, 25, 50, 75, 100]\n",
    "}\n",
    "\n",
    "rf_grid_search = GridSearchCV(rf_tune, rf_parameters, scoring='roc_auc_ovr', verbose=5)\n",
    "rf_grid_search.fit(X_train, y_train)\n",
    "\n",
    "print(f'Best Hyperparameters: {rf_grid_search.best_estimator_}')\n",
    "print(f'Best Score: {rf_grid_search.best_score_}')"
   ]
  },
  {
   "cell_type": "markdown",
   "id": "7af48ae5",
   "metadata": {},
   "source": [
    "Best Model"
   ]
  },
  {
   "cell_type": "code",
   "execution_count": 13,
   "id": "0a67f110",
   "metadata": {},
   "outputs": [
    {
     "name": "stdout",
     "output_type": "stream",
     "text": [
      "Train Set ROC AUC Score: 0.9971842684457206\n",
      "Test Set ROC AUC Score: 0.9378317539748615\n"
     ]
    }
   ],
   "source": [
    "rf_grid_search.best_estimator_.fit(X_train, y_train)\n",
    "\n",
    "train_pred = rf_grid_search.best_estimator_.predict_proba(X_train)\n",
    "test_pred = rf_grid_search.best_estimator_.predict_proba(X_test)\n",
    "\n",
    "print(f\"Train Set ROC AUC Score: {roc_auc_score(y_train, train_pred, multi_class='ovr')}\")\n",
    "print(f\"Test Set ROC AUC Score: {roc_auc_score(y_test, test_pred, multi_class='ovr')}\")"
   ]
  },
  {
   "cell_type": "markdown",
   "id": "b72f725b",
   "metadata": {},
   "source": [
    "#### Multilayer Perceptron (MLP)"
   ]
  },
  {
   "cell_type": "code",
   "execution_count": 13,
   "id": "899d1e58",
   "metadata": {
    "scrolled": true,
    "slideshow": {
     "slide_type": ""
    },
    "tags": []
   },
   "outputs": [
    {
     "name": "stdout",
     "output_type": "stream",
     "text": [
      "Iteration 1, loss = 1.59125558\n",
      "Iteration 2, loss = 1.58049642\n",
      "Iteration 3, loss = 1.57441122\n",
      "Iteration 4, loss = 1.56963295\n",
      "Iteration 5, loss = 1.56540126\n",
      "Iteration 6, loss = 1.56178920\n",
      "Iteration 7, loss = 1.55853338\n",
      "Iteration 8, loss = 1.55540959\n",
      "Iteration 9, loss = 1.55284729\n",
      "Iteration 10, loss = 1.55069614\n",
      "Iteration 11, loss = 1.54859094\n",
      "Iteration 12, loss = 1.54675586\n",
      "Iteration 13, loss = 1.54484205\n",
      "Iteration 14, loss = 1.54324660\n",
      "Iteration 15, loss = 1.54182879\n",
      "Iteration 16, loss = 1.54052814\n",
      "Iteration 17, loss = 1.53925522\n",
      "Iteration 18, loss = 1.53809809\n",
      "Iteration 19, loss = 1.53693150\n",
      "Iteration 20, loss = 1.53601793\n",
      "Iteration 21, loss = 1.53511648\n",
      "Iteration 22, loss = 1.53418322\n",
      "Iteration 23, loss = 1.53333056\n",
      "Iteration 24, loss = 1.53265296\n",
      "Iteration 25, loss = 1.53164789\n",
      "Iteration 26, loss = 1.53097288\n",
      "Iteration 27, loss = 1.53019424\n",
      "Iteration 28, loss = 1.52946301\n",
      "Iteration 29, loss = 1.52897344\n",
      "Iteration 30, loss = 1.52811723\n",
      "Iteration 31, loss = 1.52757296\n",
      "Iteration 32, loss = 1.52691246\n",
      "Iteration 33, loss = 1.52640107\n",
      "Iteration 34, loss = 1.52563587\n",
      "Iteration 35, loss = 1.52537324\n",
      "Iteration 36, loss = 1.52502050\n",
      "Iteration 37, loss = 1.52446444\n",
      "Iteration 38, loss = 1.52414081\n",
      "Iteration 39, loss = 1.52371644\n",
      "Iteration 40, loss = 1.52319882\n",
      "Iteration 41, loss = 1.52282291\n",
      "Iteration 42, loss = 1.52234623\n",
      "Iteration 43, loss = 1.52237524\n",
      "Iteration 44, loss = 1.52203037\n",
      "Iteration 45, loss = 1.52174313\n",
      "Iteration 46, loss = 1.52120741\n",
      "Iteration 47, loss = 1.52086964\n",
      "Iteration 48, loss = 1.52051450\n",
      "Iteration 49, loss = 1.52070733\n",
      "Iteration 50, loss = 1.52013300\n",
      "Iteration 51, loss = 1.52006304\n",
      "Iteration 52, loss = 1.51989297\n",
      "Iteration 53, loss = 1.51941313\n",
      "Iteration 54, loss = 1.51921397\n",
      "Iteration 55, loss = 1.51939910\n",
      "Iteration 56, loss = 1.51905996\n",
      "Iteration 57, loss = 1.51867486\n",
      "Iteration 58, loss = 1.51830273\n",
      "Iteration 59, loss = 1.51808836\n",
      "Iteration 60, loss = 1.51779140\n",
      "Iteration 61, loss = 1.51769397\n",
      "Iteration 62, loss = 1.51746319\n",
      "Iteration 63, loss = 1.51739998\n",
      "Iteration 64, loss = 1.51757736\n",
      "Iteration 65, loss = 1.51730090\n",
      "Iteration 66, loss = 1.51724469\n",
      "Iteration 67, loss = 1.51690466\n",
      "Iteration 68, loss = 1.51694662\n",
      "Iteration 69, loss = 1.51680011\n",
      "Iteration 70, loss = 1.51673164\n",
      "Iteration 71, loss = 1.51645604\n",
      "Iteration 72, loss = 1.51624289\n",
      "Iteration 73, loss = 1.51602712\n",
      "Iteration 74, loss = 1.51634716\n",
      "Iteration 75, loss = 1.51599611\n",
      "Iteration 76, loss = 1.51589962\n",
      "Iteration 77, loss = 1.51590894\n",
      "Iteration 78, loss = 1.51583062\n",
      "Iteration 79, loss = 1.51580278\n",
      "Iteration 80, loss = 1.51574924\n",
      "Iteration 81, loss = 1.51551126\n",
      "Iteration 82, loss = 1.51559791\n",
      "Iteration 83, loss = 1.51521984\n",
      "Iteration 84, loss = 1.51534580\n",
      "Iteration 85, loss = 1.51544356\n",
      "Iteration 86, loss = 1.51526325\n",
      "Iteration 87, loss = 1.51525296\n",
      "Iteration 88, loss = 1.51494440\n",
      "Iteration 89, loss = 1.51488724\n",
      "Iteration 90, loss = 1.51486985\n",
      "Iteration 91, loss = 1.51465749\n",
      "Iteration 92, loss = 1.51454898\n",
      "Iteration 93, loss = 1.51453344\n",
      "Iteration 94, loss = 1.51474554\n",
      "Iteration 95, loss = 1.51442165\n",
      "Iteration 96, loss = 1.51449208\n",
      "Iteration 97, loss = 1.51432647\n",
      "Iteration 98, loss = 1.51423634\n",
      "Iteration 99, loss = 1.51418365\n",
      "Iteration 100, loss = 1.51421111\n",
      "Iteration 101, loss = 1.51436350\n",
      "Iteration 102, loss = 1.51442520\n",
      "Iteration 103, loss = 1.51413327\n",
      "Iteration 104, loss = 1.51407963\n",
      "Iteration 105, loss = 1.51404440\n",
      "Iteration 106, loss = 1.51406456\n",
      "Training loss did not improve more than tol=0.000100 for 10 consecutive epochs. Stopping.\n",
      "\n",
      "Train Set ROC AUC Score: 0.6428671144829029\n",
      "Test Set ROC AUC Score: 0.6401827775707573\n"
     ]
    }
   ],
   "source": [
    "from sklearn.neural_network import MLPClassifier\n",
    "\n",
    "mlp_clf = MLPClassifier(random_state=42, verbose=1)\n",
    "mlp_clf.fit(X_train, y_train)\n",
    "\n",
    "train_pred = mlp_clf.predict_proba(X_train)\n",
    "test_pred = mlp_clf.predict_proba(X_test)\n",
    "\n",
    "print()\n",
    "print(f\"Train Set ROC AUC Score: {roc_auc_score(y_train, train_pred, multi_class='ovr')}\")\n",
    "print(f\"Test Set ROC AUC Score: {roc_auc_score(y_test, test_pred, multi_class='ovr')}\")"
   ]
  },
  {
   "cell_type": "markdown",
   "id": "57080388",
   "metadata": {},
   "source": [
    "Hyperparameter Tuning"
   ]
  },
  {
   "cell_type": "code",
   "execution_count": 5,
   "id": "4beb10a7",
   "metadata": {
    "scrolled": true
   },
   "outputs": [
    {
     "name": "stdout",
     "output_type": "stream",
     "text": [
      "Fitting 5 folds for each of 8 candidates, totalling 40 fits\n",
      "[CV 1/5] END activation=relu, hidden_layer_sizes=64;, score=0.618 total time= 1.6min\n",
      "[CV 2/5] END activation=relu, hidden_layer_sizes=64;, score=0.613 total time= 1.5min\n",
      "[CV 3/5] END activation=relu, hidden_layer_sizes=64;, score=0.620 total time= 2.3min\n",
      "[CV 4/5] END activation=relu, hidden_layer_sizes=64;, score=0.617 total time= 1.9min\n",
      "[CV 5/5] END activation=relu, hidden_layer_sizes=64;, score=0.620 total time= 2.3min\n"
     ]
    },
    {
     "name": "stderr",
     "output_type": "stream",
     "text": [
      "/opt/conda/lib/python3.11/site-packages/sklearn/neural_network/_multilayer_perceptron.py:690: ConvergenceWarning: Stochastic Optimizer: Maximum iterations (200) reached and the optimization hasn't converged yet.\n",
      "  warnings.warn(\n"
     ]
    },
    {
     "name": "stdout",
     "output_type": "stream",
     "text": [
      "[CV 1/5] END activation=relu, hidden_layer_sizes=128;, score=0.650 total time= 4.3min\n"
     ]
    },
    {
     "name": "stderr",
     "output_type": "stream",
     "text": [
      "/opt/conda/lib/python3.11/site-packages/sklearn/neural_network/_multilayer_perceptron.py:690: ConvergenceWarning: Stochastic Optimizer: Maximum iterations (200) reached and the optimization hasn't converged yet.\n",
      "  warnings.warn(\n"
     ]
    },
    {
     "name": "stdout",
     "output_type": "stream",
     "text": [
      "[CV 2/5] END activation=relu, hidden_layer_sizes=128;, score=0.651 total time= 4.2min\n"
     ]
    },
    {
     "name": "stderr",
     "output_type": "stream",
     "text": [
      "/opt/conda/lib/python3.11/site-packages/sklearn/neural_network/_multilayer_perceptron.py:690: ConvergenceWarning: Stochastic Optimizer: Maximum iterations (200) reached and the optimization hasn't converged yet.\n",
      "  warnings.warn(\n"
     ]
    },
    {
     "name": "stdout",
     "output_type": "stream",
     "text": [
      "[CV 3/5] END activation=relu, hidden_layer_sizes=128;, score=0.650 total time= 4.2min\n"
     ]
    },
    {
     "name": "stderr",
     "output_type": "stream",
     "text": [
      "/opt/conda/lib/python3.11/site-packages/sklearn/neural_network/_multilayer_perceptron.py:690: ConvergenceWarning: Stochastic Optimizer: Maximum iterations (200) reached and the optimization hasn't converged yet.\n",
      "  warnings.warn(\n"
     ]
    },
    {
     "name": "stdout",
     "output_type": "stream",
     "text": [
      "[CV 4/5] END activation=relu, hidden_layer_sizes=128;, score=0.647 total time= 4.2min\n"
     ]
    },
    {
     "name": "stderr",
     "output_type": "stream",
     "text": [
      "/opt/conda/lib/python3.11/site-packages/sklearn/neural_network/_multilayer_perceptron.py:690: ConvergenceWarning: Stochastic Optimizer: Maximum iterations (200) reached and the optimization hasn't converged yet.\n",
      "  warnings.warn(\n"
     ]
    },
    {
     "name": "stdout",
     "output_type": "stream",
     "text": [
      "[CV 5/5] END activation=relu, hidden_layer_sizes=128;, score=0.649 total time= 3.5min\n"
     ]
    },
    {
     "name": "stderr",
     "output_type": "stream",
     "text": [
      "/opt/conda/lib/python3.11/site-packages/sklearn/neural_network/_multilayer_perceptron.py:690: ConvergenceWarning: Stochastic Optimizer: Maximum iterations (200) reached and the optimization hasn't converged yet.\n",
      "  warnings.warn(\n"
     ]
    },
    {
     "name": "stdout",
     "output_type": "stream",
     "text": [
      "[CV 1/5] END activation=relu, hidden_layer_sizes=256;, score=0.685 total time= 5.7min\n"
     ]
    },
    {
     "name": "stderr",
     "output_type": "stream",
     "text": [
      "/opt/conda/lib/python3.11/site-packages/sklearn/neural_network/_multilayer_perceptron.py:690: ConvergenceWarning: Stochastic Optimizer: Maximum iterations (200) reached and the optimization hasn't converged yet.\n",
      "  warnings.warn(\n"
     ]
    },
    {
     "name": "stdout",
     "output_type": "stream",
     "text": [
      "[CV 2/5] END activation=relu, hidden_layer_sizes=256;, score=0.687 total time= 5.2min\n"
     ]
    },
    {
     "name": "stderr",
     "output_type": "stream",
     "text": [
      "/opt/conda/lib/python3.11/site-packages/sklearn/neural_network/_multilayer_perceptron.py:690: ConvergenceWarning: Stochastic Optimizer: Maximum iterations (200) reached and the optimization hasn't converged yet.\n",
      "  warnings.warn(\n"
     ]
    },
    {
     "name": "stdout",
     "output_type": "stream",
     "text": [
      "[CV 3/5] END activation=relu, hidden_layer_sizes=256;, score=0.685 total time= 5.2min\n"
     ]
    },
    {
     "name": "stderr",
     "output_type": "stream",
     "text": [
      "/opt/conda/lib/python3.11/site-packages/sklearn/neural_network/_multilayer_perceptron.py:690: ConvergenceWarning: Stochastic Optimizer: Maximum iterations (200) reached and the optimization hasn't converged yet.\n",
      "  warnings.warn(\n"
     ]
    },
    {
     "name": "stdout",
     "output_type": "stream",
     "text": [
      "[CV 4/5] END activation=relu, hidden_layer_sizes=256;, score=0.684 total time= 5.3min\n"
     ]
    },
    {
     "name": "stderr",
     "output_type": "stream",
     "text": [
      "/opt/conda/lib/python3.11/site-packages/sklearn/neural_network/_multilayer_perceptron.py:690: ConvergenceWarning: Stochastic Optimizer: Maximum iterations (200) reached and the optimization hasn't converged yet.\n",
      "  warnings.warn(\n"
     ]
    },
    {
     "name": "stdout",
     "output_type": "stream",
     "text": [
      "[CV 5/5] END activation=relu, hidden_layer_sizes=256;, score=0.683 total time= 5.7min\n"
     ]
    },
    {
     "name": "stderr",
     "output_type": "stream",
     "text": [
      "/opt/conda/lib/python3.11/site-packages/sklearn/neural_network/_multilayer_perceptron.py:690: ConvergenceWarning: Stochastic Optimizer: Maximum iterations (200) reached and the optimization hasn't converged yet.\n",
      "  warnings.warn(\n"
     ]
    },
    {
     "name": "stdout",
     "output_type": "stream",
     "text": [
      "[CV 1/5] END activation=relu, hidden_layer_sizes=512;, score=0.719 total time=21.5min\n"
     ]
    },
    {
     "name": "stderr",
     "output_type": "stream",
     "text": [
      "/opt/conda/lib/python3.11/site-packages/sklearn/neural_network/_multilayer_perceptron.py:690: ConvergenceWarning: Stochastic Optimizer: Maximum iterations (200) reached and the optimization hasn't converged yet.\n",
      "  warnings.warn(\n"
     ]
    },
    {
     "name": "stdout",
     "output_type": "stream",
     "text": [
      "[CV 2/5] END activation=relu, hidden_layer_sizes=512;, score=0.723 total time=22.2min\n"
     ]
    },
    {
     "name": "stderr",
     "output_type": "stream",
     "text": [
      "/opt/conda/lib/python3.11/site-packages/sklearn/neural_network/_multilayer_perceptron.py:690: ConvergenceWarning: Stochastic Optimizer: Maximum iterations (200) reached and the optimization hasn't converged yet.\n",
      "  warnings.warn(\n"
     ]
    },
    {
     "name": "stdout",
     "output_type": "stream",
     "text": [
      "[CV 3/5] END activation=relu, hidden_layer_sizes=512;, score=0.719 total time=21.8min\n"
     ]
    },
    {
     "name": "stderr",
     "output_type": "stream",
     "text": [
      "/opt/conda/lib/python3.11/site-packages/sklearn/neural_network/_multilayer_perceptron.py:690: ConvergenceWarning: Stochastic Optimizer: Maximum iterations (200) reached and the optimization hasn't converged yet.\n",
      "  warnings.warn(\n"
     ]
    },
    {
     "name": "stdout",
     "output_type": "stream",
     "text": [
      "[CV 4/5] END activation=relu, hidden_layer_sizes=512;, score=0.720 total time=20.5min\n"
     ]
    },
    {
     "name": "stderr",
     "output_type": "stream",
     "text": [
      "/opt/conda/lib/python3.11/site-packages/sklearn/neural_network/_multilayer_perceptron.py:690: ConvergenceWarning: Stochastic Optimizer: Maximum iterations (200) reached and the optimization hasn't converged yet.\n",
      "  warnings.warn(\n"
     ]
    },
    {
     "name": "stdout",
     "output_type": "stream",
     "text": [
      "[CV 5/5] END activation=relu, hidden_layer_sizes=512;, score=0.721 total time=21.1min\n"
     ]
    },
    {
     "name": "stderr",
     "output_type": "stream",
     "text": [
      "/opt/conda/lib/python3.11/site-packages/sklearn/neural_network/_multilayer_perceptron.py:690: ConvergenceWarning: Stochastic Optimizer: Maximum iterations (200) reached and the optimization hasn't converged yet.\n",
      "  warnings.warn(\n"
     ]
    },
    {
     "name": "stdout",
     "output_type": "stream",
     "text": [
      "[CV 1/5] END activation=logistic, hidden_layer_sizes=64;, score=0.627 total time= 2.7min\n"
     ]
    },
    {
     "name": "stderr",
     "output_type": "stream",
     "text": [
      "/opt/conda/lib/python3.11/site-packages/sklearn/neural_network/_multilayer_perceptron.py:690: ConvergenceWarning: Stochastic Optimizer: Maximum iterations (200) reached and the optimization hasn't converged yet.\n",
      "  warnings.warn(\n"
     ]
    },
    {
     "name": "stdout",
     "output_type": "stream",
     "text": [
      "[CV 2/5] END activation=logistic, hidden_layer_sizes=64;, score=0.630 total time= 2.7min\n"
     ]
    },
    {
     "name": "stderr",
     "output_type": "stream",
     "text": [
      "/opt/conda/lib/python3.11/site-packages/sklearn/neural_network/_multilayer_perceptron.py:690: ConvergenceWarning: Stochastic Optimizer: Maximum iterations (200) reached and the optimization hasn't converged yet.\n",
      "  warnings.warn(\n"
     ]
    },
    {
     "name": "stdout",
     "output_type": "stream",
     "text": [
      "[CV 3/5] END activation=logistic, hidden_layer_sizes=64;, score=0.630 total time= 2.7min\n"
     ]
    },
    {
     "name": "stderr",
     "output_type": "stream",
     "text": [
      "/opt/conda/lib/python3.11/site-packages/sklearn/neural_network/_multilayer_perceptron.py:690: ConvergenceWarning: Stochastic Optimizer: Maximum iterations (200) reached and the optimization hasn't converged yet.\n",
      "  warnings.warn(\n"
     ]
    },
    {
     "name": "stdout",
     "output_type": "stream",
     "text": [
      "[CV 4/5] END activation=logistic, hidden_layer_sizes=64;, score=0.625 total time= 2.7min\n"
     ]
    },
    {
     "name": "stderr",
     "output_type": "stream",
     "text": [
      "/opt/conda/lib/python3.11/site-packages/sklearn/neural_network/_multilayer_perceptron.py:690: ConvergenceWarning: Stochastic Optimizer: Maximum iterations (200) reached and the optimization hasn't converged yet.\n",
      "  warnings.warn(\n"
     ]
    },
    {
     "name": "stdout",
     "output_type": "stream",
     "text": [
      "[CV 5/5] END activation=logistic, hidden_layer_sizes=64;, score=0.632 total time= 2.7min\n"
     ]
    },
    {
     "name": "stderr",
     "output_type": "stream",
     "text": [
      "/opt/conda/lib/python3.11/site-packages/sklearn/neural_network/_multilayer_perceptron.py:690: ConvergenceWarning: Stochastic Optimizer: Maximum iterations (200) reached and the optimization hasn't converged yet.\n",
      "  warnings.warn(\n"
     ]
    },
    {
     "name": "stdout",
     "output_type": "stream",
     "text": [
      "[CV 1/5] END activation=logistic, hidden_layer_sizes=128;, score=0.649 total time= 3.8min\n"
     ]
    },
    {
     "name": "stderr",
     "output_type": "stream",
     "text": [
      "/opt/conda/lib/python3.11/site-packages/sklearn/neural_network/_multilayer_perceptron.py:690: ConvergenceWarning: Stochastic Optimizer: Maximum iterations (200) reached and the optimization hasn't converged yet.\n",
      "  warnings.warn(\n"
     ]
    },
    {
     "name": "stdout",
     "output_type": "stream",
     "text": [
      "[CV 2/5] END activation=logistic, hidden_layer_sizes=128;, score=0.651 total time= 3.8min\n"
     ]
    },
    {
     "name": "stderr",
     "output_type": "stream",
     "text": [
      "/opt/conda/lib/python3.11/site-packages/sklearn/neural_network/_multilayer_perceptron.py:690: ConvergenceWarning: Stochastic Optimizer: Maximum iterations (200) reached and the optimization hasn't converged yet.\n",
      "  warnings.warn(\n"
     ]
    },
    {
     "name": "stdout",
     "output_type": "stream",
     "text": [
      "[CV 3/5] END activation=logistic, hidden_layer_sizes=128;, score=0.652 total time= 3.8min\n"
     ]
    },
    {
     "name": "stderr",
     "output_type": "stream",
     "text": [
      "/opt/conda/lib/python3.11/site-packages/sklearn/neural_network/_multilayer_perceptron.py:690: ConvergenceWarning: Stochastic Optimizer: Maximum iterations (200) reached and the optimization hasn't converged yet.\n",
      "  warnings.warn(\n"
     ]
    },
    {
     "name": "stdout",
     "output_type": "stream",
     "text": [
      "[CV 4/5] END activation=logistic, hidden_layer_sizes=128;, score=0.646 total time= 3.8min\n"
     ]
    },
    {
     "name": "stderr",
     "output_type": "stream",
     "text": [
      "/opt/conda/lib/python3.11/site-packages/sklearn/neural_network/_multilayer_perceptron.py:690: ConvergenceWarning: Stochastic Optimizer: Maximum iterations (200) reached and the optimization hasn't converged yet.\n",
      "  warnings.warn(\n"
     ]
    },
    {
     "name": "stdout",
     "output_type": "stream",
     "text": [
      "[CV 5/5] END activation=logistic, hidden_layer_sizes=128;, score=0.647 total time= 3.8min\n"
     ]
    },
    {
     "name": "stderr",
     "output_type": "stream",
     "text": [
      "/opt/conda/lib/python3.11/site-packages/sklearn/neural_network/_multilayer_perceptron.py:690: ConvergenceWarning: Stochastic Optimizer: Maximum iterations (200) reached and the optimization hasn't converged yet.\n",
      "  warnings.warn(\n"
     ]
    },
    {
     "name": "stdout",
     "output_type": "stream",
     "text": [
      "[CV 1/5] END activation=logistic, hidden_layer_sizes=256;, score=0.660 total time= 6.2min\n"
     ]
    },
    {
     "name": "stderr",
     "output_type": "stream",
     "text": [
      "/opt/conda/lib/python3.11/site-packages/sklearn/neural_network/_multilayer_perceptron.py:690: ConvergenceWarning: Stochastic Optimizer: Maximum iterations (200) reached and the optimization hasn't converged yet.\n",
      "  warnings.warn(\n"
     ]
    },
    {
     "name": "stdout",
     "output_type": "stream",
     "text": [
      "[CV 2/5] END activation=logistic, hidden_layer_sizes=256;, score=0.662 total time= 6.2min\n"
     ]
    },
    {
     "name": "stderr",
     "output_type": "stream",
     "text": [
      "/opt/conda/lib/python3.11/site-packages/sklearn/neural_network/_multilayer_perceptron.py:690: ConvergenceWarning: Stochastic Optimizer: Maximum iterations (200) reached and the optimization hasn't converged yet.\n",
      "  warnings.warn(\n"
     ]
    },
    {
     "name": "stdout",
     "output_type": "stream",
     "text": [
      "[CV 3/5] END activation=logistic, hidden_layer_sizes=256;, score=0.659 total time= 6.2min\n"
     ]
    },
    {
     "name": "stderr",
     "output_type": "stream",
     "text": [
      "/opt/conda/lib/python3.11/site-packages/sklearn/neural_network/_multilayer_perceptron.py:690: ConvergenceWarning: Stochastic Optimizer: Maximum iterations (200) reached and the optimization hasn't converged yet.\n",
      "  warnings.warn(\n"
     ]
    },
    {
     "name": "stdout",
     "output_type": "stream",
     "text": [
      "[CV 4/5] END activation=logistic, hidden_layer_sizes=256;, score=0.663 total time= 6.3min\n"
     ]
    },
    {
     "name": "stderr",
     "output_type": "stream",
     "text": [
      "/opt/conda/lib/python3.11/site-packages/sklearn/neural_network/_multilayer_perceptron.py:690: ConvergenceWarning: Stochastic Optimizer: Maximum iterations (200) reached and the optimization hasn't converged yet.\n",
      "  warnings.warn(\n"
     ]
    },
    {
     "name": "stdout",
     "output_type": "stream",
     "text": [
      "[CV 5/5] END activation=logistic, hidden_layer_sizes=256;, score=0.661 total time= 6.3min\n"
     ]
    },
    {
     "name": "stderr",
     "output_type": "stream",
     "text": [
      "/opt/conda/lib/python3.11/site-packages/sklearn/neural_network/_multilayer_perceptron.py:690: ConvergenceWarning: Stochastic Optimizer: Maximum iterations (200) reached and the optimization hasn't converged yet.\n",
      "  warnings.warn(\n"
     ]
    },
    {
     "name": "stdout",
     "output_type": "stream",
     "text": [
      "[CV 1/5] END activation=logistic, hidden_layer_sizes=512;, score=0.663 total time=10.9min\n"
     ]
    },
    {
     "name": "stderr",
     "output_type": "stream",
     "text": [
      "/opt/conda/lib/python3.11/site-packages/sklearn/neural_network/_multilayer_perceptron.py:690: ConvergenceWarning: Stochastic Optimizer: Maximum iterations (200) reached and the optimization hasn't converged yet.\n",
      "  warnings.warn(\n"
     ]
    },
    {
     "name": "stdout",
     "output_type": "stream",
     "text": [
      "[CV 2/5] END activation=logistic, hidden_layer_sizes=512;, score=0.658 total time=10.9min\n"
     ]
    },
    {
     "name": "stderr",
     "output_type": "stream",
     "text": [
      "/opt/conda/lib/python3.11/site-packages/sklearn/neural_network/_multilayer_perceptron.py:690: ConvergenceWarning: Stochastic Optimizer: Maximum iterations (200) reached and the optimization hasn't converged yet.\n",
      "  warnings.warn(\n"
     ]
    },
    {
     "name": "stdout",
     "output_type": "stream",
     "text": [
      "[CV 3/5] END activation=logistic, hidden_layer_sizes=512;, score=0.662 total time=10.9min\n"
     ]
    },
    {
     "name": "stderr",
     "output_type": "stream",
     "text": [
      "/opt/conda/lib/python3.11/site-packages/sklearn/neural_network/_multilayer_perceptron.py:690: ConvergenceWarning: Stochastic Optimizer: Maximum iterations (200) reached and the optimization hasn't converged yet.\n",
      "  warnings.warn(\n"
     ]
    },
    {
     "name": "stdout",
     "output_type": "stream",
     "text": [
      "[CV 4/5] END activation=logistic, hidden_layer_sizes=512;, score=0.659 total time=10.8min\n"
     ]
    },
    {
     "name": "stderr",
     "output_type": "stream",
     "text": [
      "/opt/conda/lib/python3.11/site-packages/sklearn/neural_network/_multilayer_perceptron.py:690: ConvergenceWarning: Stochastic Optimizer: Maximum iterations (200) reached and the optimization hasn't converged yet.\n",
      "  warnings.warn(\n"
     ]
    },
    {
     "name": "stdout",
     "output_type": "stream",
     "text": [
      "[CV 5/5] END activation=logistic, hidden_layer_sizes=512;, score=0.663 total time=10.8min\n",
      "Best Hyperparameters: MLPClassifier(hidden_layer_sizes=512, random_state=42)\n",
      "Best Score: 0.7205431040652052\n"
     ]
    },
    {
     "name": "stderr",
     "output_type": "stream",
     "text": [
      "/opt/conda/lib/python3.11/site-packages/sklearn/neural_network/_multilayer_perceptron.py:690: ConvergenceWarning: Stochastic Optimizer: Maximum iterations (200) reached and the optimization hasn't converged yet.\n",
      "  warnings.warn(\n"
     ]
    }
   ],
   "source": [
    "from sklearn.model_selection import GridSearchCV\n",
    "\n",
    "mlp_tune = MLPClassifier(random_state=42)\n",
    "mlp_parameters = {\n",
    "    'hidden_layer_sizes': [64, 128, 256, 512],\n",
    "    'activation': ['relu', 'logistic']\n",
    "}\n",
    "\n",
    "mlp_grid_search = GridSearchCV(mlp_tune, mlp_parameters, scoring='roc_auc_ovr', verbose=5)\n",
    "mlp_grid_search.fit(X_train, y_train)\n",
    "\n",
    "print(f'Best Hyperparameters: {mlp_grid_search.best_estimator_}')\n",
    "print(f'Best Score: {mlp_grid_search.best_score_}')"
   ]
  },
  {
   "cell_type": "markdown",
   "id": "3ab5a9c1",
   "metadata": {},
   "source": [
    "Best Model"
   ]
  },
  {
   "cell_type": "code",
   "execution_count": 6,
   "id": "b2a80ac6",
   "metadata": {},
   "outputs": [
    {
     "name": "stderr",
     "output_type": "stream",
     "text": [
      "/opt/conda/lib/python3.11/site-packages/sklearn/neural_network/_multilayer_perceptron.py:690: ConvergenceWarning: Stochastic Optimizer: Maximum iterations (200) reached and the optimization hasn't converged yet.\n",
      "  warnings.warn(\n"
     ]
    },
    {
     "name": "stdout",
     "output_type": "stream",
     "text": [
      "Train Set ROC AUC Score: 0.734724861264316\n",
      "Test Set ROC AUC Score: 0.730337396705908\n"
     ]
    }
   ],
   "source": [
    "mlp_grid_search.best_estimator_.fit(X_train, y_train)\n",
    "\n",
    "train_pred = mlp_grid_search.best_estimator_.predict_proba(X_train)\n",
    "test_pred = mlp_grid_search.best_estimator_.predict_proba(X_test)\n",
    "\n",
    "print(f\"Train Set ROC AUC Score: {roc_auc_score(y_train, train_pred, multi_class='ovr')}\")\n",
    "print(f\"Test Set ROC AUC Score: {roc_auc_score(y_test, test_pred, multi_class='ovr')}\")"
   ]
  },
  {
   "cell_type": "markdown",
   "id": "08383bd7",
   "metadata": {},
   "source": [
    "### Plot Results"
   ]
  },
  {
   "cell_type": "code",
   "execution_count": 1,
   "id": "0b87c7ab",
   "metadata": {},
   "outputs": [
    {
     "data": {
      "image/png": "[encoded data removed]",
      "text/plain": [
       "<Figure size 720x360 with 1 Axes>"
      ]
     },
     "metadata": {
      "needs_background": "light"
     },
     "output_type": "display_data"
    }
   ],
   "source": [
    "import matplotlib.pyplot as plt\n",
    "\n",
    "models = ['NB', 'LR', 'KNN', 'RF', 'MLP']\n",
    "results = [0.5400626576657311, 0.5406525580374888, 0.9373043549066183, 0.9378317539748615, 0.730337396705908]\n",
    "\n",
    "fig, ax = plt.subplots(1, 1, figsize=(10, 5))\n",
    "\n",
    "bars = ax.bar(models, results)\n",
    "ax.bar_label(bars, padding=4)\n",
    "ax.axhline(0.5, linestyle='dashed', color='red', label='Baseline')\n",
    "\n",
    "ax.set_title('ROC AUC of classifiers')\n",
    "ax.set_ylabel('ROC AUC')\n",
    "ax.set_xlabel('Classifier')\n",
    "ax.set_ylim(0.4, 1.0)\n",
    "\n",
    "ax.legend(loc='upper right')\n",
    "\n",
    "plt.tight_layout()\n",
    "plt.show()"
   ]
  },
  {
   "cell_type": "code",
   "execution_count": 2,
   "id": "588be893",
   "metadata": {},
   "outputs": [],
   "source": [
    "fig.savefig('../../figures/artist_popularity_classification_results.pdf')"
   ]
  }
 ],
 "metadata": {
  "kernelspec": {
   "display_name": "Python 3 (ipykernel)",
   "language": "python",
   "name": "python3"
  },
  "language_info": {
   "codemirror_mode": {
    "name": "ipython",
    "version": 3
   },
   "file_extension": ".py",
   "mimetype": "text/x-python",
   "name": "python",
   "nbconvert_exporter": "python",
   "pygments_lexer": "ipython3",
   "version": "3.9.12"
  }
 },
 "nbformat": 4,
 "nbformat_minor": 5
}
